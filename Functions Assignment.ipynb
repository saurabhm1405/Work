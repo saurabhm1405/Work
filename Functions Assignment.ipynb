{
 "cells": [
  {
   "cell_type": "raw",
   "id": "0591e9e3-46f1-4799-ae0a-30f79125f4cf",
   "metadata": {},
   "source": [
    "Name-saurabh\n",
    "Mobile- 7887488929\n",
    "E-Mail- saurabhm1405@gmail.com\n",
    "Assignment-Functions\n",
    "GitHub link-"
   ]
  },
  {
   "cell_type": "raw",
   "id": "0ff49500-cdf3-4e1c-a9c6-d197c044596b",
   "metadata": {},
   "source": [
    "1. What is the difference between a function and a method in Python?\n",
    "Ans:-\n",
    "i) Function\n",
    "A function is defined using the def keyword.\n",
    "It can exist independently, not tied to any object.\n",
    "Functions are called by their name directly.\n",
    ">>Example:def greet(name):\n",
    "    return f\"Hello, {name}!\"\n",
    "\n",
    "print(greet(\"saurabh\"))  # Output: Hello, saurabh!\n",
    "\n",
    "ii) Method\n",
    "A method is also defined using the def keyword, but inside a class.\n",
    "It is associated with an object (an instance of a class).\n",
    "The first parameter of most methods is self, referring to the instance.\n",
    "Methods are called using dot notation on an object.\n",
    "Example:\n",
    "class Greeter:\n",
    "    def greet(self, name):\n",
    "        return f\"Hello, {name}!\"\n",
    "\n",
    "g = Greeter()\n",
    "print(g.greet(\"Bob\"))  # Output: Hello, Bob!"
   ]
  },
  {
   "cell_type": "raw",
   "id": "35ee7fa1-9412-4994-bb66-88d64d663f9f",
   "metadata": {},
   "source": [
    "2. Explain the concept of function arguments and parameters in Python.\n",
    "Ans:-\n",
    "In Python, function arguments and parameters are closely related, but they refer to different things depending on the context:\n",
    ">>Definitions\n",
    "Term\t                         Description\n",
    "Parameter\tA variable in a function definition. It's a placeholder for the value.\n",
    "Argument\tThe actual value that you pass to the function when calling it.\n",
    ">>Ex:-\n",
    "def greet(name):  # 'name' is a parameter\n",
    "    print(f\"Hello, {name}!\")\n",
    "\n",
    "greet(\"Alice\")     # \"Alice\" is an argument\n",
    "\n",
    "Types of Parameters/Arguments\n",
    "Python supports several types of function parameters and corresponding arguments:\n",
    "\n",
    "Type\t                Example\t                                    Description\n",
    "Positional\t         greet(\"Alice\")\t                     Matched by position in order\n",
    "Keyword\t           greet(name=\"Alice\")                  Matched by name, order doesn't matter\n",
    "Default\t           def greet(name=\"Guest\")\t            Uses a default value if no argument is passed\n",
    "Variable-length\t     *args, **kwargs\t                Accepts many positional or keyword arguments\n",
    "\n",
    ">>Variable-Length Parameters\n",
    "def greet_all(*names):  # Accepts any number of positional arguments\n",
    "    for name in names:\n",
    "        print(f\"Hello, {name}!\")\n",
    "\n",
    "greet_all(\"Alice\", \"Bob\", \"Charlie\")\n",
    "\n",
    "def display_info(**info):  # Accepts any number of keyword arguments\n",
    "    for key, value in info.items():\n",
    "        print(f\"{key}: {value}\")\n",
    "\n",
    "display_info(name=\"Alice\", age=30)"
   ]
  },
  {
   "cell_type": "raw",
   "id": "31ab8ce7-4eae-4c1f-b05f-87234d7726c7",
   "metadata": {},
   "source": [
    "3. What are the different ways to define and call a function in Python?\n",
    "Ans:-\n",
    ">> Standard Function Definition\n",
    "Defined using the def keyword.\n",
    "def greet(name):\n",
    "    return f\"Hello, {name}!\"\n",
    "\n",
    "# Function call\n",
    "print(greet(\"Alice\"))\n",
    "\n",
    ">>Function with Default Parameters\n",
    "Allows calling the function with or without arguments.\n",
    "def greet(name=\"Guest\"):\n",
    "    return f\"Hello, {name}!\"\n",
    "\n",
    "print(greet())          # Uses default: \"Hello, Guest!\"\n",
    "print(greet(\"Bob\"))     # Uses argument: \"Hello, Bob!\"\n",
    "\n",
    ">>Function with Keyword Arguments\n",
    "Arguments are passed by name, not just position.\n",
    "def greet(name, greeting):\n",
    "    return f\"{greeting}, {name}!\"\n",
    "\n",
    "print(greet(name=\"Alice\", greeting=\"Hi\"))\n",
    "print(greet(greeting=\"Hey\", name=\"Bob\"))\n",
    "\n",
    ">>Function with Variable-length Arguments\n",
    "*args (positional) and **kwargs (keyword)\n",
    "def show_args(*args, **kwargs):\n",
    "    print(\"Positional:\", args)\n",
    "    print(\"Keyword:\", kwargs)\n",
    "\n",
    "show_args(1, 2, 3, a=\"x\", b=\"y\")\n",
    "\n",
    ">>Lambda Functions (Anonymous Functions)\n",
    "Single-expression, inline functions.\n",
    "add = lambda x, y: x + y\n",
    "print(add(3, 4))  # Output: 7\n",
    "\n",
    ">>Function as an Object (Assigned to a Variable)\n",
    "Functions are first-class objects in Python.\n",
    "def greet(name):\n",
    "    return f\"Hi, {name}!\"\n",
    "\n",
    "say_hi = greet  # Assigning function to another variable\n",
    "print(say_hi(\"Dana\"))\n",
    "\n",
    ">>Function Inside Another Function (Nested Functions)\n",
    "def outer():\n",
    "    def inner():\n",
    "        return \"Inner function\"\n",
    "    return inner()\n",
    "\n",
    "print(outer())\n",
    "\n",
    ">>Calling Functions from Modules\n",
    "import math\n",
    "print(math.sqrt(16))  # Calls sqrt function from math module"
   ]
  },
  {
   "cell_type": "raw",
   "id": "da34bd85-e733-4a5d-8d06-b5ed4f5f783d",
   "metadata": {},
   "source": [
    "4. What is the purpose of the `return` statement in a Python function?\n",
    "Ans:-\n",
    ">>>The return statement in a Python function is used to send a result back to the caller and to end the function's execution.\n",
    ">>Main Purposes of return:\n",
    "Send Output to the Caller\n",
    "It provides the result of the function for further use.\n",
    "def add(a, b):\n",
    "    return a + b\n",
    "\n",
    "result = add(3, 5)\n",
    "print(result)  # Output: 8\n",
    ">>Exit the Function Early\n",
    "When return is executed, the function stops running immediately—even if there is more code after it.\n",
    "def check_even(n):\n",
    "    if n % 2 == 0:\n",
    "        return True\n",
    "    return False\n",
    "\n",
    "print(check_even(4))  # Output: True\n",
    ">>Return Multiple Values\n",
    "Python allows returning multiple values as a tuple.\n",
    "def get_stats():\n",
    "    return 90, 80, 70\n",
    "\n",
    "a, b, c = get_stats()\n",
    "print(a, b, c)  # Output: 90 80 70\n",
    ">>If return is Omitted\n",
    "The function returns None by default.\n",
    "def no_return():\n",
    "    print(\"Hello\")\n",
    "\n",
    "result = no_return()\n",
    "print(result)  # Output: Hello \\n None"
   ]
  },
  {
   "cell_type": "raw",
   "id": "5d8fa2c5-12c4-486f-b1fd-94ac6c1599c9",
   "metadata": {},
   "source": [
    "5. What are iterators in Python and how do they differ from iterables?\n",
    "Ans:-\n",
    "What is an Iterable?\n",
    ">>>An iterable is any object you can loop over using a for loop. It implements the __iter__() method, which returns an iterator.\n",
    "Examples of Iterables:\n",
    "Lists\n",
    "Tuples\n",
    "Strings\n",
    "Dictionaries\n",
    "Sets\n",
    "Any custom object that implements __iter__()\n",
    ">> my_list = [1, 2, 3]\n",
    "   for item in my_list:\n",
    "      print(item)\n",
    ">>>What is an Iterator?\n",
    "An iterator is an object that produces the next value in a sequence when you call next() on it. It implements:\n",
    "__iter__() → returns the iterator itself\n",
    "__next__() → returns the next value or raises StopIteration when done\n",
    "You get an iterator from an iterable:\n",
    ">>my_list = [1, 2, 3]\n",
    "  iterator = iter(my_list)  # Get an iterator from the iterable\n",
    "\n",
    "  print(next(iterator))  # 1\n",
    "  print(next(iterator))  # 2\n",
    "  print(next(iterator))  # 3\n",
    "  # print(next(iterator))  # Raises StopIteration"
   ]
  },
  {
   "cell_type": "raw",
   "id": "01d02dfd-4fc7-460e-9efa-9decf628bfe2",
   "metadata": {},
   "source": [
    "6. Explain the concept of generators in Python and how they are defined.\n",
    "Ans:-\n",
    ">>>In Python, generators are a simple and memory-efficient way to create iterators. Instead of returning all values at once (like a list), a generator yields one value at a time, only when requested.\n",
    ">>What is a Generator?\n",
    "A generator is a special kind of function that produces a sequence of results lazily, meaning it generates values on the fly as you iterate over them.\n",
    ">>How Are Generators Defined?\n",
    "Generators are defined like regular functions, but they use the yield keyword instead of return.\n",
    ">>Example:\n",
    "def count_up_to(n):\n",
    "    count = 1\n",
    "    while count <= n:\n",
    "        yield count\n",
    "        count += 1\n",
    "\n",
    "gen = count_up_to(3)\n",
    "\n",
    "print(next(gen))  # Output: 1\n",
    "print(next(gen))  # Output: 2\n",
    "print(next(gen))  # Output: 3\n",
    "# print(next(gen))  # Raises StopIteration"
   ]
  },
  {
   "cell_type": "raw",
   "id": "812c3451-31ec-4a7f-b54c-55ee474f121f",
   "metadata": {},
   "source": [
    "7. What are the advantages of using generators over regular functions?\n",
    "Ans:-\n",
    ">>>Generators offer several key advantages over regular functions, especially when working with large data sets or streams. Here's a breakdown of why and when you’d want to use them:\n",
    " Advantages of Generators\n",
    ">>Memory Efficiency\n",
    "Regular functions (or list comprehensions) return entire data structures at once.\n",
    "Generators yield one value at a time, so they don’t store the whole sequence in memory.\n",
    "Example:\n",
    "# List comprehension (eager evaluation)\n",
    "squares = [x**2 for x in range(1_000_000)]  # Uses a lot of memory\n",
    "# Generator (lazy evaluation)\n",
    "squares = (x**2 for x in range(1_000_000))  # Uses almost no memory\n",
    ">>Lazy Evaluation\n",
    "Values are computed only when needed, which improves performance and enables handling of infinite sequences.\n",
    "def infinite_numbers():\n",
    "    num = 0\n",
    "    while True:\n",
    "        yield num\n",
    "        num += 1\n",
    ">>Improved Performance\n",
    "Since generators yield results on the fly, they're often faster for large or streamed data where you don’t need everything all at once.\n",
    ">>Clean and Concise Code\n",
    "Generators reduce the need to manage large temporary lists or complex loop logic.\n",
    "def read_large_file(filename):\n",
    "    with open(filename) as f:\n",
    "        for line in f:\n",
    "            yield line.strip()\n",
    ">>Infinite Data Handling\n",
    "You can represent endless sequences without crashing your program due to memory limits.\n",
    "def even_numbers():\n",
    "    n = 0\n",
    "    while True:\n",
    "        yield n\n",
    "        n += 2\n",
    ">>Composable Pipelines\n",
    "Generators can be chained together for building efficient data-processing pipelines.\n",
    "def gen_numbers():\n",
    "    for i in range(100):\n",
    "        yield i\n",
    "\n",
    "def filter_even(nums):\n",
    "    for num in nums:\n",
    "        if num % 2 == 0:\n",
    "            yield num\n",
    "\n",
    "for n in filter_even(gen_numbers()):\n",
    "    print(n)"
   ]
  },
  {
   "cell_type": "raw",
   "id": "ca1cc7d4-e43a-4d42-82e2-aebc397122cc",
   "metadata": {},
   "source": [
    "8. What is a lambda function in Python and when is it typically used?\n",
    "Ans:-\n",
    "A lambda function in Python is a small, anonymous (unnamed) function defined using the lambda keyword. It is typically used for short, simple operations, especially when a full def function would be unnecessarily verbose.\n",
    ">>>Common Use Cases for Lambda Functions\n",
    ">> With built-in functions like map(), filter(), and sorted()\n",
    "   map() – Apply a function to each item in a list\n",
    "nums = [1, 2, 3]\n",
    "squared = list(map(lambda x: x**2, nums))\n",
    "print(squared)  # Output: [1, 4, 9]\n",
    ">>filter() – Filter items based on a condition\n",
    "nums = [1, 2, 3, 4]\n",
    "evens = list(filter(lambda x: x % 2 == 0, nums))\n",
    "print(evens)  # Output: [2, 4]\n",
    ">>sorted() – Custom sort with key\n",
    "words = ['apple', 'banana', 'kiwi']\n",
    "sorted_words = sorted(words, key=lambda word: len(word))\n",
    "print(sorted_words)  # Output: ['kiwi', 'apple', 'banana']\n",
    ">>>Inline or one-off functions\n",
    "Used when a function is needed just once, and defining a full def function would be overkill.\n",
    "print((lambda x: x * 10)(5))  # Output: 50\n",
    ">>> When not to use a lambda\n",
    "For complex logic (use def instead for clarity).\n",
    "When the function needs documentation or reusability.\n",
    "When the function needs multiple expressions or statements."
   ]
  },
  {
   "cell_type": "raw",
   "id": "ed2b4e1a-9cb2-4103-be65-ee804d6e1299",
   "metadata": {},
   "source": [
    "9. Explain the purpose and usage of the `map()` function in Python.\n",
    "Ans:-\n",
    "The map() function in Python is used to apply a function to every item in an iterable (like a list, tuple, etc.) and return a new iterator with the results.\n",
    "Purpose of map()\n",
    "To transform data by applying the same operation to each element.\n",
    "It helps write cleaner, more concise code by eliminating the need for explicit loops.\n",
    ">>Syntax\n",
    "map(function, iterable)\n",
    "function: A function that takes one (or more) arguments.\n",
    "iterable: An iterable like a list, tuple, etc.\n",
    "Returns a map object (which is an iterator). Use list() or tuple() to view the results.\n",
    ">>Basic Example\n",
    "nums = [1, 2, 3, 4]\n",
    "squares = map(lambda x: x**2, nums)\n",
    "print(list(squares))  # Output: [1, 4, 9, 16]\n",
    ">>Using map() with Built-in Functions\n",
    "words = [\"apple\", \"banana\", \"cherry\"]\n",
    "lengths = list(map(len, words))\n",
    "print(lengths)  # Output: [5, 6, 6]"
   ]
  },
  {
   "cell_type": "raw",
   "id": "5d1df3c3-54f6-4ac6-8cc5-b6638518470f",
   "metadata": {},
   "source": [
    "10. What is the difference between `map()`, `reduce()`, and `filter()` functions in Python?\n",
    "Ans:-\n",
    "Great question! map(), filter(), and reduce() are all functional programming tools in Python, often used for processing sequences. Here's how they differ in purpose, functionality, and typical use cases:\n",
    ">>>map()\n",
    ">>Purpose:\n",
    "Applies a function to every item in an iterable and returns a new iterator with the results.\n",
    ">>Returns:\n",
    "A map object (which can be converted to a list, tuple, etc.)\n",
    ">>Example:\n",
    "nums = [1, 2, 3, 4]\n",
    "squared = list(map(lambda x: x**2, nums))\n",
    "print(squared)  # Output: [1, 4, 9, 16]\n",
    ">>>filter()\n",
    ">>purpose:\n",
    "Filters items in an iterable based on a predicate function that returns True or False.\n",
    ">>Returns:\n",
    "A filter object (also an iterator)\n",
    "Example:\n",
    "nums = [1, 2, 3, 4, 5]\n",
    "evens = list(filter(lambda x: x % 2 == 0, nums))\n",
    "print(evens)  # Output: [2, 4]\n",
    ">>>reduce() (from functools)\n",
    ">>Purpose:\n",
    "Reduces an iterable to a single cumulative value by repeatedly applying a function.\n",
    ">>Returns:\n",
    "A single result (not an iterator)\n",
    ">>Needs to be imported:\n",
    "from functools import reduce\n",
    "Example:\n",
    "from functools import reduce\n",
    "nums = [1, 2, 3, 4]\n",
    "product = reduce(lambda x, y: x * y, nums)\n",
    "print(product)  # Output: 24"
   ]
  },
  {
   "cell_type": "raw",
   "id": "4d8d41a6-e3d8-4e62-a230-bdfaff1886fc",
   "metadata": {},
   "source": [
    "                                                                Practical Questions:"
   ]
  },
  {
   "cell_type": "code",
   "execution_count": 3,
   "id": "7f049671-966d-4f6d-bc8d-4b446c858160",
   "metadata": {},
   "outputs": [
    {
     "name": "stdout",
     "output_type": "stream",
     "text": [
      "12\n"
     ]
    }
   ],
   "source": [
    "#1. Write a Python function that takes a list of numbers as input and returns the sum of all even numbers in the list.\n",
    "#code>>\n",
    "def sum_of_evens(numbers):\n",
    "    even_sum = 0\n",
    "    for num in numbers:\n",
    "        if num % 2 == 0:\n",
    "            even_sum += num\n",
    "    return even_sum\n",
    "#Ex>>\n",
    "nums = [1, 2, 3, 4, 5, 6]\n",
    "result = sum_of_evens(nums)\n",
    "print(result)"
   ]
  },
  {
   "cell_type": "code",
   "execution_count": 2,
   "id": "60beb229-bdf1-43d9-b1e1-311f70be621a",
   "metadata": {},
   "outputs": [
    {
     "name": "stdout",
     "output_type": "stream",
     "text": [
      "olleh\n"
     ]
    }
   ],
   "source": [
    "#2. Create a Python function that accepts a string and returns the reverse of that string.\n",
    "#code>>\n",
    "def reverse_string(text):\n",
    "    return text[::-1]\n",
    "#Ex>>\n",
    "word = \"hello\"\n",
    "reversed_word = reverse_string(word)\n",
    "print(reversed_word)"
   ]
  },
  {
   "cell_type": "code",
   "execution_count": 4,
   "id": "02f5f851-f21e-47c7-94a0-67b72e0a91df",
   "metadata": {},
   "outputs": [
    {
     "name": "stdout",
     "output_type": "stream",
     "text": [
      "[1, 4, 9, 16]\n"
     ]
    }
   ],
   "source": [
    "#3. Implement a Python function that takes a list of integers and returns a new list containing the squares of each number.\n",
    "#code>>\n",
    "def square_list(numbers):\n",
    "    return [x ** 2 for x in numbers]\n",
    "#Ex>>\n",
    "nums = [1, 2, 3, 4]\n",
    "squares = square_list(nums)\n",
    "print(squares) "
   ]
  },
  {
   "cell_type": "code",
   "execution_count": 5,
   "id": "dc1a5850-d637-42bc-8216-dd67925d94d2",
   "metadata": {},
   "outputs": [
    {
     "name": "stdout",
     "output_type": "stream",
     "text": [
      "True\n",
      "False\n",
      "True\n",
      "False\n",
      "False\n"
     ]
    }
   ],
   "source": [
    "#4. Write a Python function that checks if a given number is prime or not from 1 to 200.\n",
    "#code>>\n",
    "def is_prime(n):\n",
    "    if n < 2 or n > 200:\n",
    "        return False  # Not in valid range or not prime by definition\n",
    "    for i in range(2, int(n ** 0.5) + 1):\n",
    "        if n % i == 0:\n",
    "            return False\n",
    "    return True\n",
    "#Ex>>\n",
    "print(is_prime(2))    \n",
    "print(is_prime(100))  \n",
    "print(is_prime(199))  \n",
    "print(is_prime(1))    \n",
    "print(is_prime(201))  "
   ]
  },
  {
   "cell_type": "code",
   "execution_count": 6,
   "id": "83c738b7-ba49-48de-856d-0e32ff1f8ede",
   "metadata": {},
   "outputs": [
    {
     "name": "stdout",
     "output_type": "stream",
     "text": [
      "0\n",
      "1\n",
      "1\n",
      "2\n",
      "3\n",
      "5\n",
      "8\n",
      "13\n",
      "21\n",
      "34\n"
     ]
    }
   ],
   "source": [
    "#5. Create an iterator class in Python that generates the Fibonacci sequence up to a specified number of terms.\n",
    "#code>>\n",
    "class FibonacciIterator:\n",
    "    def __init__(self, max_terms):\n",
    "        self.max_terms = max_terms\n",
    "        self.count = 0\n",
    "        self.a = 0\n",
    "        self.b = 1\n",
    "\n",
    "    def __iter__(self):\n",
    "        return self\n",
    "\n",
    "    def __next__(self):\n",
    "        if self.count >= self.max_terms:\n",
    "            raise StopIteration\n",
    "        if self.count == 0:\n",
    "            self.count += 1\n",
    "            return self.a\n",
    "        elif self.count == 1:\n",
    "            self.count += 1\n",
    "            return self.b\n",
    "        else:\n",
    "            self.a, self.b = self.b, self.a + self.b\n",
    "            self.count += 1\n",
    "            return self.b\n",
    "#Ex>>\n",
    "fib = FibonacciIterator(10) \n",
    "for num in fib:\n",
    "    print(num)"
   ]
  },
  {
   "cell_type": "code",
   "execution_count": 7,
   "id": "3d8a626c-1051-4116-80aa-559cf34a4926",
   "metadata": {},
   "outputs": [
    {
     "name": "stdout",
     "output_type": "stream",
     "text": [
      "1\n",
      "2\n",
      "4\n",
      "8\n",
      "16\n",
      "32\n"
     ]
    }
   ],
   "source": [
    "#6. Write a generator function in Python that yields the powers of 2 up to a given exponent.\n",
    "#code>>\n",
    "def powers_of_two(n):\n",
    "    for i in range(n + 1):\n",
    "        yield 2 ** i\n",
    "#Ex>>\n",
    "for power in powers_of_two(5):\n",
    "    print(power)"
   ]
  },
  {
   "cell_type": "code",
   "execution_count": 12,
   "id": "830dab5e-d4eb-41a4-9f63-d86fc8b2c792",
   "metadata": {},
   "outputs": [],
   "source": [
    "#7. Implement a generator function that reads a file line by line and yields each line as a string.\n",
    "#code>>\n",
    "def read_file_lines(filepath):\n",
    "    with open(filepath, 'r') as file:\n",
    "        for line in file:\n",
    "            yield line.rstrip('\\n')"
   ]
  },
  {
   "cell_type": "code",
   "execution_count": 13,
   "id": "ee22ae60-1685-4c67-8612-55ea288ca238",
   "metadata": {},
   "outputs": [
    {
     "name": "stdout",
     "output_type": "stream",
     "text": [
      "[(2, 1), (3, 2), (1, 3), (4, 5)]\n"
     ]
    }
   ],
   "source": [
    "#8. Use a lambda function in Python to sort a list of tuples based on the second element of each tuple.\n",
    "#code>>\n",
    "# List of tuples\n",
    "data = [(1, 3), (2, 1), (4, 5), (3, 2)]\n",
    "\n",
    "# Sort by the second element of each tuple\n",
    "sorted_data = sorted(data, key=lambda x: x[1])\n",
    "\n",
    "print(sorted_data)"
   ]
  },
  {
   "cell_type": "code",
   "execution_count": 14,
   "id": "5435357b-8adc-4ab5-b424-7918ec22feb3",
   "metadata": {},
   "outputs": [
    {
     "name": "stdout",
     "output_type": "stream",
     "text": [
      "Celsius: [0, 10, 20, 30, 40]\n",
      "Fahrenheit: [32.0, 50.0, 68.0, 86.0, 104.0]\n"
     ]
    }
   ],
   "source": [
    "#9. Write a Python program that uses `map()` to convert a list of temperatures from Celsius to Fahrenheit.\n",
    "#code>>\n",
    "# List of Celsius temperatures\n",
    "celsius_temps = [0, 10, 20, 30, 40]\n",
    "\n",
    "# Convert to Fahrenheit using map() and lambda\n",
    "fahrenheit_temps = list(map(lambda c: (c * 9/5) + 32, celsius_temps))\n",
    "\n",
    "# Print the result\n",
    "print(\"Celsius:\", celsius_temps)\n",
    "print(\"Fahrenheit:\", fahrenheit_temps)"
   ]
  },
  {
   "cell_type": "code",
   "execution_count": 15,
   "id": "c1d11032-8184-4b4d-b230-165ecc823bad",
   "metadata": {},
   "outputs": [
    {
     "name": "stdout",
     "output_type": "stream",
     "text": [
      "Original String: Hello World!\n",
      "String without vowels: Hll Wrld!\n"
     ]
    }
   ],
   "source": [
    "#10. Create a Python program that uses `filter()` to remove all the vowels from a given string.\n",
    "#code>>\n",
    "def remove_vowels(input_string):\n",
    "    vowels = \"aeiouAEIOU\"\n",
    "    return ''.join(filter(lambda x: x not in vowels, input_string))\n",
    "\n",
    "# Ex>>\n",
    "input_string = \"Hello World!\"\n",
    "result = remove_vowels(input_string)\n",
    "\n",
    "print(\"Original String:\", input_string)\n",
    "print(\"String without vowels:\", result)"
   ]
  }
 ],
 "metadata": {
  "kernelspec": {
   "display_name": "Python 3 (ipykernel)",
   "language": "python",
   "name": "python3"
  },
  "language_info": {
   "codemirror_mode": {
    "name": "ipython",
    "version": 3
   },
   "file_extension": ".py",
   "mimetype": "text/x-python",
   "name": "python",
   "nbconvert_exporter": "python",
   "pygments_lexer": "ipython3",
   "version": "3.12.1"
  }
 },
 "nbformat": 4,
 "nbformat_minor": 5
}
