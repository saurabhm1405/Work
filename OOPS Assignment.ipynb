{
 "cells": [
  {
   "cell_type": "raw",
   "id": "66fbf29e-53d5-454e-98d1-67e7a541ab4f",
   "metadata": {},
   "source": [
    "Name:- Saurabh\n",
    "Mobile:- 7887488929\n",
    "E-Mail:- saurabhm1405@gmail.com\n",
    "Assignment:- OOPs"
   ]
  },
  {
   "cell_type": "raw",
   "id": "30d5da08-d9e0-4be4-b0fa-07eb19b9a1e4",
   "metadata": {},
   "source": [
    "                                                            Python OOPs Questions"
   ]
  },
  {
   "cell_type": "raw",
   "id": "cb32961c-e0e6-4ca7-9eb0-85a4dab3920d",
   "metadata": {},
   "source": [
    "1.What is Object-Oriented Programming (OOP)?\n",
    "Ans:- Object-Oriented Programming (OOP) is a programming paradigm based on the concept of \"objects.\" Objects are instances of classes, which can contain both data (attributes) and functions (methods) that operate on the data. OOP is widely used because it helps organize complex programs, encourages code reuse, and improves maintainability."
   ]
  },
  {
   "cell_type": "raw",
   "id": "e7da37ba-e7dc-497c-8da1-a81b782de36a",
   "metadata": {},
   "source": [
    "2.What is a class in OOP?\n",
    "Ans:- A class defines:\n",
    "\n",
    "Attributes (also called properties or fields): the data or state.\n",
    "\n",
    "Methods (also called functions): the behavior or actions.\n",
    "\n",
    "Objects are created from classes, and they inherit the structure and behavior defined in the class."
   ]
  },
  {
   "cell_type": "raw",
   "id": "3fcf5343-2483-41c1-8a85-6676e660d0e3",
   "metadata": {},
   "source": [
    "3.What is an object in OOP?\n",
    "Ans:- An object is a real-world entity in code. It contains:\n",
    "\n",
    "Data (called attributes or properties)\n",
    "\n",
    "Behaviors (called methods or functions)\n",
    "\n",
    "You create (or instantiate) an object using a class, which acts as a blueprint."
   ]
  },
  {
   "cell_type": "raw",
   "id": "28bdaf05-d33b-40bc-a965-43729fa44c0e",
   "metadata": {},
   "source": [
    "4.What is the difference between abstraction and encapsulation?\n",
    "Ans:- \n",
    "Feature                        Abstraction                                                                    Encapsulation\n",
    "Definition     Hiding implementation details and showing only essential features.\t          Hiding the internal state of an object and requiring all                                                                                                          interaction through methods.\n",
    "Purpose\t        To reduce complexity and focus on what an object does.\t               To protect object integrity and prevent unintended interference.\n",
    "Focus\t                    Focuses on what the object does.\t                                   Focuses on how the object’s data is protected.\n",
    "Achieved by\t                    -Abstract classes                                                        - Private variables\n",
    "                                 - Interfaces                                                           - Public methods (getters/setters)\n",
    "                              - Method overriding\t                                          \n",
    "Example\t            You can drive a car without knowing how the engine works.\t            You can’t directly access the car’s engine internals — you                                                                                                               use buttons and pedals.\n",
    "Real Code\t     Providing a function like login() without exposing its logic.\t          Making variables private and using getName() / setName() to                                                                                                                 access them."
   ]
  },
  {
   "cell_type": "raw",
   "id": "eae4dd1c-96de-4fbf-a27a-2a3068db6744",
   "metadata": {},
   "source": [
    "5.What are dunder methods in Python?\n",
    "Ans:- Dunder methods in Python — short for “double underscore” methods — are special methods with names that start and end with double underscores, like __init__, __str__, __len__, etc.\n",
    "\n",
    "They are also called magic methods or special methods because they let you define or customize the behavior of built-in Python operations (like printing, adding, comparing, indexing, etc.) for your own objects."
   ]
  },
  {
   "cell_type": "raw",
   "id": "0249fde6-36d9-4a6d-ab1e-b2dd5dac686c",
   "metadata": {},
   "source": [
    "6.Explain the concept of inheritance in OOP.\n",
    "Ans:- Inheritance is a core concept in Object-Oriented Programming (OOP) that allows a class (child/subclass) to inherit properties and methods from another class (parent/superclass).\n",
    "\n",
    "It promotes:\n",
    "\n",
    "Code reuse (no need to rewrite common code),\n",
    "\n",
    "Hierarchy modeling (like real-world parent-child relationships),\n",
    "\n",
    "And extensibility (easy to modify or extend behavior)"
   ]
  },
  {
   "cell_type": "raw",
   "id": "d47de079-94b4-4f78-9f6f-199c67ded31d",
   "metadata": {},
   "source": [
    "7.What is polymorphism in OOP?\n",
    "Ans:- Polymorphism means “many forms”, and in Object-Oriented Programming (OOP), it refers to the ability of different classes to be treated as if they were the same type, and respond differently to the same method call.\n",
    "\n",
    "In simple terms:\n",
    "\n",
    "Polymorphism allows the same method or function to behave differently depending on the object calling it."
   ]
  },
  {
   "cell_type": "raw",
   "id": "57c26756-6016-4be6-90d3-546eb0593d10",
   "metadata": {},
   "source": [
    "8.How is encapsulation achieved in Python?\n",
    "Ans:- Encapsulation in Python is achieved by restricting access to internal data and exposing only necessary parts of a class to the outside world, usually via methods (like getters and setters).\n",
    ">> how encapsulation is achieved in python\n",
    "Technique\t                        Purpose\n",
    "Prefix with __\t                Make attributes private\n",
    "Getter/setter methods\t       Control access and validation\n",
    "Use @property decorator    \tCleaner syntax for getters/setters"
   ]
  },
  {
   "cell_type": "raw",
   "id": "e5f07326-ef24-4592-80d1-4b568c680cf8",
   "metadata": {},
   "source": [
    "9.What is a constructor in Python?\n",
    "Ans:-\n",
    "A constructor in Python is the __init__() method.\n",
    "\n",
    "It’s used to initialize object properties when the object is created.\n",
    "\n",
    "It runs automatically and doesn't return anything.\n",
    "\n",
    "You can use default values or @classmethod for flexible initialization."
   ]
  },
  {
   "cell_type": "raw",
   "id": "7c2fb7af-ef27-4d55-9c38-0b12ef6d906d",
   "metadata": {},
   "source": [
    "10.What are class and static methods in Python?\n",
    "Ans:- \n",
    "1. Class Method (@classmethod)\n",
    "A class method is a method that is bound to the class and not the instance. It has access to class-level data and is defined using the @classmethod decorator.\n",
    "class MyClass:\n",
    "    @classmethod\n",
    "    def my_class_method(cls, ...):\n",
    "        # cls refers to the class itself\n",
    "\n",
    "2.Static Method (@staticmethod)\n",
    "A static method is a method that doesn't depend on class or instance data. It’s just a regular function inside a class, used for organizational purposes. It doesn't receive self or cls.\n",
    "class MyClass:\n",
    "    @staticmethod\n",
    "    def my_static_method(...):\n",
    "        # no self or cls"
   ]
  },
  {
   "cell_type": "raw",
   "id": "ffd60e97-4f56-417e-82da-b5a48cf21808",
   "metadata": {},
   "source": [
    "11.What is method overloading in Python?\n",
    "Ans:-\n",
    "Method Overloading means defining multiple methods with the same name but different parameters (number or type).\n",
    "This is common in languages like Java or C++, but Python does not support true method overloading in the traditional sense.\n",
    "\n",
    "Example:\n",
    "class Demo:\n",
    "    def show(self, x):\n",
    "        print(\"One argument:\", x)\n",
    "\n",
    "    def show(self, x, y):\n",
    "        print(\"Two arguments:\", x, y)\n",
    "\n",
    "d = Demo()\n",
    "d.show(5)   >>> Error: missing 1 required positional argument"
   ]
  },
  {
   "cell_type": "raw",
   "id": "ceb0a1d5-5d03-4f06-9568-603b9ea7088b",
   "metadata": {},
   "source": [
    "12.What is method overriding in OOP.\n",
    "Ans:- Method overriding is a key concept in Object-Oriented Programming (OOP) where a subclass (child class) provides a specific implementation of a method that is already defined in its superclass (parent class).\n",
    "The overridden method in the child class has the same name, parameters, and return type as the method in the parent class, but a different behavior.\n",
    " \n",
    ">>> Why Use Method Overriding?\n",
    "To customize or extend behavior inherited from a parent class.\n",
    "To implement runtime polymorphism (method behaves differently based on the object)\n",
    "\n",
    "Example:\n",
    "class Animal:\n",
    "    def speak(self):\n",
    "        print(\"The animal makes a sound\")\n",
    "\n",
    "class Dog(Animal):\n",
    "    def speak(self):\n",
    "        print(\"The dog barks\")\n",
    "\n",
    "class Cat(Animal):\n",
    "    def speak(self):\n",
    "        print(\"The cat meows\")\n",
    "\n",
    "# Polymorphic behavior\n",
    "animals = [Dog(), Cat(), Animal()]\n",
    "for a in animals:\n",
    "    a.speak()"
   ]
  },
  {
   "cell_type": "raw",
   "id": "e2ac2de0-e804-4c63-b7cf-73e6575621c5",
   "metadata": {
    "jp-MarkdownHeadingCollapsed": true
   },
   "source": [
    "13.What is a property decorator in Python? \n",
    "Ans:- The @property decorator in Python is a built-in tool that allows you to define a method that acts like an attribute (i.e., you can access it without parentheses).\n",
    "\n",
    "It’s used to encapsulate instance variables (attributes) and allow controlled access via getter, setter, and deleter methods — all while keeping the syntax clean.\n",
    "\n",
    ">>>Why Use @property?\n",
    "To hide internal data (encapsulation).\n",
    "\n",
    "To perform validation or computation when getting or setting values.\n",
    "\n",
    "To make a method behave like an attribute.\n",
    "\n",
    ">>Example:-\n",
    "class Person:\n",
    "    def __init__(self, name):\n",
    "        self._name = name  # conventionally \"protected\"\n",
    "\n",
    "    @property\n",
    "    def name(self):\n",
    "        return self._name  # getter\n",
    "\n",
    "    @name.setter\n",
    "    def name(self, value):\n",
    "        if not value:\n",
    "            raise ValueError(\"Name cannot be empty\")\n",
    "        self._name = value  # setter\n",
    "\n",
    "p = Person(\"Alice\")\n",
    "print(p.name)     #Access like an attribute\n",
    "p.name = \"Bob\"    #Set like an attribute\n",
    "print(p.name)"
   ]
  },
  {
   "cell_type": "raw",
   "id": "ecbb0545-994c-45a9-8d67-9caa842b465b",
   "metadata": {},
   "source": [
    "14.Why is polymorphism important in OOP?\n",
    "Asn:-\n",
    "Polymorphism — meaning “many forms” — is a core principle in Object-Oriented Programming (OOP) that allows objects of different types to be treated as if they are of the same type. It’s critical for writing flexible, scalable, and reusable code."
   ]
  },
  {
   "cell_type": "raw",
   "id": "41090eef-d6cd-410a-a336-dd93b5a2a46f",
   "metadata": {},
   "source": [
    "15.What is an abstract class in Python?\n",
    "Ans:- An abstract class in Python is a class that cannot be instantiated on its own and is meant to be inherited by other classes. It can define:\n",
    "\n",
    "Abstract methods (methods with no implementation)\n",
    "\n",
    "Concrete methods (methods with implementation)\n",
    "\n",
    "It is used when you want to define a common interface or blueprint for a group of related classes.\n",
    "\n",
    "Syntax:-\n",
    "from abc import ABC, abstractmethod\n",
    "\n",
    "class Shape(ABC):  # Inherits from ABC\n",
    "    @abstractmethod\n",
    "    def area(self):\n",
    "        pass"
   ]
  },
  {
   "cell_type": "raw",
   "id": "fdae1c5a-7293-4914-8541-75d0323aa162",
   "metadata": {},
   "source": [
    "16.What are the advantages of OOP?\n",
    "Ans:- \n",
    "Advantage\t                         Explanation\n",
    "Modularity\t                      Divide programs into independent, manageable units\n",
    "Reusability\t                      Reuse existing code through inheritance\n",
    "Encapsulation\t                  Protect data by restricting direct access\n",
    "Abstraction\t                      Simplify complex systems via clear interfaces\n",
    "Polymorphism\t                  Use a single interface for multiple forms\n",
    "Maintainability\t                  Easier to fix and update code\n",
    "Real-world Modeling\t              Represent entities naturally\n",
    "Extensibility\t                  Add new features without modifying existing code"
   ]
  },
  {
   "cell_type": "raw",
   "id": "4c7c60c2-7708-4204-b50b-395889d792d5",
   "metadata": {},
   "source": [
    "17.What is the difference between a class variable and an instance variable?\n",
    "Ans:-\n",
    ">>>Class Variable\n",
    "Shared by all instances of a class.\n",
    "\n",
    "Defined inside the class but outside any methods.\n",
    "\n",
    "Only one copy exists, shared by all objects.\n",
    "\n",
    "Used for properties common to all instances.\n",
    "\n",
    ">>>Instance Variable\n",
    "Unique to each instance/object.\n",
    "\n",
    "Defined inside the constructor (__init__) or other instance methods.\n",
    "\n",
    "Each object has its own separate copy.\n",
    "\n",
    "Used for properties unique to each object."
   ]
  },
  {
   "cell_type": "raw",
   "id": "305c0fea-8d41-45af-81a9-e8955cba5680",
   "metadata": {},
   "source": [
    "18.What is multiple inheritance in Python?\n",
    "Ans:-Multiple inheritance is a feature where a class can inherit from more than one parent class. This means the child class gets the properties and methods from all of its parent classes.\n",
    "\n",
    "class Parent1:\n",
    "    def method1(self):\n",
    "        print(\"Parent1 method\")\n",
    "\n",
    "class Parent2:\n",
    "    def method2(self):\n",
    "        print(\"Parent2 method\")\n",
    "\n",
    "class Child(Parent1, Parent2):\n",
    "    pass\n",
    "\n",
    "c = Child()\n",
    "c.method1()  # From Parent1\n",
    "c.method2()  # From Parent2"
   ]
  },
  {
   "cell_type": "raw",
   "id": "cf6dfd4d-74bf-4461-86f8-26a8e566748d",
   "metadata": {},
   "source": [
    "19.Explain the purpose of ‘’__str__’ and ‘__repr__’ ‘ methods in Python.\n",
    "Ans:-\n",
    " __repr__: Official String Representation\n",
    "Purpose: Provide an unambiguous and detailed string representation of an object, mainly for developers.\n",
    "\n",
    "Ideally, the string returned by __repr__ should be a valid Python expression that could recreate the object.\n",
    "\n",
    "Used by the built-in function repr() and when you inspect objects in the interpreter\n",
    "\n",
    "\n",
    "__str__: Informal/String Representation for Users\n",
    "Purpose: Provide a readable, user-friendly string representation of an object.\n",
    "\n",
    "Used by the built-in function str() and when you use print() on an object.\n",
    "\n",
    "Should be easy to understand."
   ]
  },
  {
   "cell_type": "raw",
   "id": "5c43fbde-7116-4fbc-b2b5-a97e5e9b15d2",
   "metadata": {},
   "source": [
    "20. What is the significance of the ‘super()’ function in Python?\n",
    "Ans:-The super() function is used to call a method from a parent (super) class inside a child (sub) class. It helps you access and extend the behavior of inherited methods without explicitly naming the parent class.\n",
    "\n",
    "class Animal:\n",
    "    def __init__(self, name):\n",
    "        self.name = name\n",
    "\n",
    "    def speak(self):\n",
    "        print(f\"{self.name} makes a sound\")\n",
    "\n",
    "class Dog(Animal):\n",
    "    def __init__(self, name, breed):\n",
    "        super().__init__(name)  # Call Animal's __init__\n",
    "        self.breed = breed\n",
    "\n",
    "    def speak(self):\n",
    "        super().speak()  # Call Animal's speak\n",
    "        print(f\"{self.name} barks\")\n",
    "\n",
    "dog = Dog(\"Buddy\", \"Golden Retriever\")\n",
    "dog.speak()"
   ]
  },
  {
   "cell_type": "raw",
   "id": "46ac5f1e-6903-4531-ab5d-8e63b3485532",
   "metadata": {},
   "source": [
    "21. What is the significance of the __del__ method in Python?\n",
    "Ans:- The __del__() method in Python is a special (dunder) method known as a destructor. It's called automatically when an object is about to be destroyed, typically when its reference count reaches zero (i.e., it's no longer used)."
   ]
  },
  {
   "cell_type": "raw",
   "id": "7c4ad3cb-9147-413d-9358-85b59e20a8fc",
   "metadata": {},
   "source": [
    "22.What is the difference between @staticmethod and @classmethod in Python?\n",
    "Ans:-\n",
    "Feature\t                      @staticmethod\t                                         @classmethod\n",
    "Receives\t           No automatic first argument\t                           First argument is cls (the class)\n",
    "Accesses class data    Cannot access class or instance data\t                   Can access and modify class variables\n",
    "When to use\t           When the method does not depend on class or instance\t   When the method needs to work with the class itself\n",
    "Typical use\t           Utility/helper methods\t                               Factory methods or class-wide operations"
   ]
  },
  {
   "cell_type": "raw",
   "id": "82bdd5cb-2718-456d-8bed-e8676960df29",
   "metadata": {},
   "source": [
    "23.How does polymorphism work in Python with inheritance?\n",
    "Ans:-In Python, polymorphism with inheritance allows you to use a common interface (like a method name) for different subclasses, each providing its own implementation. This lets you write flexible, reusable, and extensible code.\n",
    "\n",
    "Example:\n",
    "class Animal:\n",
    "    def speak(self):\n",
    "        return \"Some sound\"\n",
    "\n",
    "class Dog(Animal):\n",
    "    def speak(self):\n",
    "        return \"Bark\"\n",
    "\n",
    "class Cat(Animal):\n",
    "    def speak(self):\n",
    "        return \"Meow\"\n",
    "\n",
    "animals = [Dog(), Cat(), Animal()]\n",
    "\n",
    "for animal in animals:\n",
    "    print(animal.speak())"
   ]
  },
  {
   "cell_type": "raw",
   "id": "319107a2-04e8-475e-be84-2ff30b7e79e3",
   "metadata": {},
   "source": [
    "24.What is method chaining in Python OOP?\n",
    "Ans:-Method chaining is a programming technique where multiple method calls are linked together in a single statement, using dot (.) notation.\n",
    "Each method returns the object (self), allowing the next method to be called on the same object.\n",
    "\n",
    "Example:-\n",
    "class User:\n",
    "    def __init__(self):\n",
    "        self.name = \"\"\n",
    "        self.age = 0\n",
    "        self.email = \"\"\n",
    "\n",
    "    def set_name(self, name):\n",
    "        self.name = name\n",
    "        return self  # Enables chaining\n",
    "\n",
    "    def set_age(self, age):\n",
    "        self.age = age\n",
    "        return self\n",
    "\n",
    "    def set_email(self, email):\n",
    "        self.email = email\n",
    "        return self\n",
    "\n",
    "    def show(self):\n",
    "        print(f\"Name: {self.name}, Age: {self.age}, Email: {self.email}\")\n",
    "        return self\n",
    "\n",
    "user = User().set_name(\"Alice\").set_age(30).set_email(\"alice@example.com\")"
   ]
  },
  {
   "cell_type": "raw",
   "id": "e740f152-618c-45ec-a9e4-e29fedd8d32a",
   "metadata": {},
   "source": [
    "25.What is the purpose of the __call__ method in Python?\n",
    "Ans:- The __call__() method in Python makes an object behave like a function.\n",
    "\n",
    "If a class defines the __call__() method, then instances of that class can be called just like a regular function — using parentheses () — and Python will automatically invoke __call__.\n",
    "\n",
    "Example:-\n",
    "class Greeter:\n",
    "    def __init__(self, name):\n",
    "        self.name = name\n",
    "\n",
    "    def __call__(self):\n",
    "        print(f\"Hello, {self.name}!\")\n",
    "\n",
    "greet = Greeter(\"Alice\")\n",
    "greet()"
   ]
  },
  {
   "cell_type": "raw",
   "id": "76815c0b-5e39-4b0c-bb1a-a811e33d3b4d",
   "metadata": {},
   "source": [
    "                                                        Practical Questions"
   ]
  },
  {
   "cell_type": "code",
   "execution_count": 19,
   "id": "a2a4ddee-f8d6-48ed-866b-e4dcdfa89a3d",
   "metadata": {},
   "outputs": [
    {
     "name": "stdout",
     "output_type": "stream",
     "text": [
      "Makes A Sound\n",
      "barks\n"
     ]
    }
   ],
   "source": [
    "#1. Create a parent class Animal with a method speak() that prints a generic message. Create a child class Dog that overrides the speak() method to print \"Bark!\".\n",
    "#Code>>\n",
    "class Animal:\n",
    "    def speak(self):\n",
    "        print(\"Makes A Sound\")\n",
    "\n",
    "class Dog(Animal):\n",
    "    def speak(self):\n",
    "        print(\"barks\")\n",
    "a = Animal()\n",
    "d = Dog()\n",
    "\n",
    "a.speak()\n",
    "d.speak()"
   ]
  },
  {
   "cell_type": "code",
   "execution_count": 44,
   "id": "433c9444-cb3c-44aa-a3c0-066b81d1ea7d",
   "metadata": {},
   "outputs": [
    {
     "name": "stdout",
     "output_type": "stream",
     "text": [
      "Circle area: 78.5\n",
      "Rectangle area: 24\n"
     ]
    }
   ],
   "source": [
    "#2. Write a program to create an abstract class Shape with a method area(). Derive classes Circle and Rectangle from it and implement the area() method in both.\n",
    "#code>>\n",
    "from abc import ABC, abstractmethod\n",
    "import math\n",
    "\n",
    "class Shape(ABC):\n",
    "    @abstractmethod\n",
    "    def area(self):\n",
    "        pass\n",
    "\n",
    "class Circle(Shape):\n",
    "    def __init__(self, radius):\n",
    "        self.radius = radius\n",
    "\n",
    "    def area(self):\n",
    "        return 3.14 * self.radius ** 2\n",
    "\n",
    "class Rectangle(Shape):\n",
    "    def __init__(self, width, height):\n",
    "        self.width = width\n",
    "        self.height = height\n",
    "\n",
    "    def area(self):\n",
    "        return self.width * self.height\n",
    "c = Circle(5)\n",
    "r = Rectangle(4, 6)\n",
    "\n",
    "print(f\"Circle area: {c.area()}\")      \n",
    "print(f\"Rectangle area: {r.area()}\") "
   ]
  },
  {
   "cell_type": "code",
   "execution_count": 45,
   "id": "53263ea4-b5aa-443a-9b2a-25b354725a40",
   "metadata": {},
   "outputs": [
    {
     "name": "stdout",
     "output_type": "stream",
     "text": [
      "Vehicle Type: Electric Vehicle\n",
      "Car Brand: Tesla\n",
      "Battery Capacity: 75 kWh\n"
     ]
    }
   ],
   "source": [
    "#3. Implement a multi-level inheritance scenario where a class Vehicle has an attribute type. Derive a class Car and further derive a class ElectricCar that adds a battery attribute\n",
    "#code>>\n",
    "\n",
    "class Vehicle:\n",
    "    def __init__(self, vehicle_type):\n",
    "        self.vehicle_type = vehicle_type\n",
    "\n",
    "    def show_type(self):\n",
    "        print(f\"Vehicle Type: {self.vehicle_type}\")\n",
    "\n",
    "class Car(Vehicle):\n",
    "    def __init__(self, vehicle_type, brand):\n",
    "        super().__init__(vehicle_type)\n",
    "        self.brand = brand\n",
    "\n",
    "    def show_brand(self):\n",
    "        print(f\"Car Brand: {self.brand}\")\n",
    "\n",
    "class ElectricCar(Car):\n",
    "    def __init__(self, vehicle_type, brand, battery_capacity):\n",
    "        super().__init__(vehicle_type, brand)\n",
    "        self.battery_capacity = battery_capacity\n",
    "\n",
    "    def show_battery(self):\n",
    "        print(f\"Battery Capacity: {self.battery_capacity} kWh\")\n",
    "\n",
    "# Example usage\n",
    "e_car = ElectricCar(\"Electric Vehicle\", \"Tesla\", 75)\n",
    "e_car.show_type() \n",
    "e_car.show_brand()\n",
    "e_car.show_battery()"
   ]
  },
  {
   "cell_type": "code",
   "execution_count": 51,
   "id": "caf548df-2708-4a38-b35d-be0ad97cfd0b",
   "metadata": {},
   "outputs": [
    {
     "name": "stdout",
     "output_type": "stream",
     "text": [
      "bird fly\n",
      "sparrow fly\n",
      "penguin Dance\n"
     ]
    }
   ],
   "source": [
    "#4. Demonstrate polymorphism by creating a base class Bird with a method fly(). Create two derived classes Sparrow and Penguin that override the fly() method.\n",
    "#code>>\n",
    "class Bird:\n",
    "    def fly(self):\n",
    "        print(\"bird fly\")\n",
    "\n",
    "class sparrow(Bird):\n",
    "    def fly(self):\n",
    "        print(\"sparrow fly\")\n",
    "\n",
    "class penguin(Bird):\n",
    "    def fly(self):\n",
    "        print(\"penguin Dance\")\n",
    "s = sparrow()\n",
    "b = Bird()\n",
    "b.fly()\n",
    "s.fly()\n",
    "p = penguin()\n",
    "p.fly()"
   ]
  },
  {
   "cell_type": "code",
   "execution_count": 85,
   "id": "b1825a5f-8749-4357-aff8-a9b10b598acc",
   "metadata": {},
   "outputs": [
    {
     "name": "stdout",
     "output_type": "stream",
     "text": [
      "Current balance: $100\n",
      "Withdrew: $30\n",
      "Current balance: $70\n"
     ]
    }
   ],
   "source": [
    "#5. Write a program to demonstrate encapsulation by creating a class BankAccount with private attributes balance and methods to deposit, withdraw, and check balance\n",
    "#code>>\n",
    "class BankAccount:\n",
    "    def __init__(self, initial_balance=0):\n",
    "        self.__balance = initial_balance \n",
    "\n",
    "    \n",
    "    def deposit(self, amount):\n",
    "        if amount > 0:\n",
    "            self.__balance += amount\n",
    "            print(f\"Deposited: ${amount}\")\n",
    "        else:\n",
    "            print(\"Deposit amount must be positive.\")\n",
    "\n",
    "   \n",
    "    def withdraw(self, amount):\n",
    "        if 0 < amount <= self.__balance:\n",
    "            self.__balance -= amount\n",
    "            print(f\"Withdrew: ${amount}\")\n",
    "        else:\n",
    "            print(\"Insufficient balance or invalid amount.\")\n",
    "\n",
    "    \n",
    "    def get_balance(self):\n",
    "        print(f\"Current balance: ${self.__balance}\")\n",
    "\n",
    "# Example usage\n",
    "account = BankAccount(100)\n",
    "\n",
    "account.get_balance()         \n",
    "account.withdraw(30)    \n",
    "account.get_balance()    "
   ]
  },
  {
   "cell_type": "code",
   "execution_count": 83,
   "id": "0157d6c0-d540-479b-aa20-ed2cfa1adf91",
   "metadata": {},
   "outputs": [
    {
     "name": "stdout",
     "output_type": "stream",
     "text": [
      "Amount Deposited: 100\n"
     ]
    }
   ],
   "source": [
    "account = BankAccount(100)\n",
    "account.deposit(100)"
   ]
  },
  {
   "cell_type": "code",
   "execution_count": 93,
   "id": "d0acd3e7-5b39-425e-8865-c2eb8703dab7",
   "metadata": {},
   "outputs": [
    {
     "name": "stdout",
     "output_type": "stream",
     "text": [
      "the instument is played\n",
      "The Guitar is being played\n",
      "the piano is being played\n"
     ]
    }
   ],
   "source": [
    "#6. Demonstrate runtime polymorphism using a method play() in a base class Instrument. Derive classes Guitar and Piano that implement their own version of play().\n",
    "#code>>\n",
    "class instrument:\n",
    "    def play(self):\n",
    "        print(\"the instument is played\")\n",
    "\n",
    "class Guitar(instrument):\n",
    "    def play(self):\n",
    "        print(\"The Guitar is being played\")\n",
    "\n",
    "class piano(instrument):\n",
    "    def play(self):\n",
    "        print(\"the piano is being played\")\n",
    "\n",
    "i = instrument()\n",
    "g = Guitar()\n",
    "p = piano()\n",
    "i.play()\n",
    "g.play()\n",
    "p.play()"
   ]
  },
  {
   "cell_type": "code",
   "execution_count": 96,
   "id": "f114f57a-d071-4d65-8687-82e0b92bff3c",
   "metadata": {},
   "outputs": [
    {
     "data": {
      "text/plain": [
       "1"
      ]
     },
     "execution_count": 96,
     "metadata": {},
     "output_type": "execute_result"
    }
   ],
   "source": [
    "#7. Create a class MathOperations with a class method add_numbers() to add two numbers and a static method subtract_numbers() to subtract two numbers.\n",
    "#code>>\n",
    "class mathoperations:\n",
    "    @classmethod\n",
    "    def add_numbers(cls, a, b):\n",
    "        return a+b\n",
    "\n",
    "    @staticmethod\n",
    "    def subtract_numbers(a,b):\n",
    "        return a-b\n",
    "mathoperations.add_numbers(2,3)\n",
    "mathoperations.subtract_numbers(3,2)"
   ]
  },
  {
   "cell_type": "code",
   "execution_count": 97,
   "id": "6328bd3a-b152-4fc0-b52c-b082fae8cc67",
   "metadata": {},
   "outputs": [
    {
     "name": "stdout",
     "output_type": "stream",
     "text": [
      "Total persons created: 3\n"
     ]
    }
   ],
   "source": [
    "#8. Implement a class Person with a class method to count the total number of persons created.\n",
    "#code>>\n",
    "class Person:\n",
    "    _count = 0  \n",
    "\n",
    "    def __init__(self, name):\n",
    "        self.name = name\n",
    "        Person._count += 1 \n",
    "\n",
    "    @classmethod\n",
    "    def get_person_count(cls):\n",
    "        return cls._count\n",
    "\n",
    "p1 = Person(\"Alice\")\n",
    "p2 = Person(\"Bob\")\n",
    "p3 = Person(\"Charlie\")\n",
    "\n",
    "print(f\"Total persons created: {Person.get_person_count()}\")"
   ]
  },
  {
   "cell_type": "code",
   "execution_count": 98,
   "id": "74fdf433-35bd-417a-a082-fe467e3c8702",
   "metadata": {},
   "outputs": [
    {
     "name": "stdout",
     "output_type": "stream",
     "text": [
      "3/4\n",
      "5/8\n"
     ]
    }
   ],
   "source": [
    "#9. Write a class Fraction with attributes numerator and denominator. Override the str method to display the fraction as \"numerator/denominator\".\n",
    "#code>>\n",
    "class Fraction:\n",
    "    def __init__(self, numerator, denominator):\n",
    "        self.numerator = numerator\n",
    "        self.denominator = denominator\n",
    "\n",
    "    def __str__(self):\n",
    "        return f\"{self.numerator}/{self.denominator}\"\n",
    "\n",
    "f1 = Fraction(3, 4)\n",
    "f2 = Fraction(5, 8)\n",
    "\n",
    "print(f1)  \n",
    "print(f2)  "
   ]
  },
  {
   "cell_type": "code",
   "execution_count": 112,
   "id": "7192ef01-a8c8-417b-b3c3-622ecf67e406",
   "metadata": {},
   "outputs": [
    {
     "name": "stdout",
     "output_type": "stream",
     "text": [
      "Hello, my name is Alice and I am 30 years old.\n",
      "Hello, my name is Bob and I am 25 years old.\n"
     ]
    }
   ],
   "source": [
    "#11. Create a class Person with attributes name and age. Add a method greet() that prints \"Hello, my name is {name} and I am {age} years old.\"\n",
    "#code>>\n",
    "class Person:\n",
    "    def __init__(self, name, age):\n",
    "        self.name = name\n",
    "        self.age = age\n",
    "\n",
    "    def greet(self):\n",
    "        print(f\"Hello, my name is {self.name} and I am {self.age} years old.\")\n",
    "p1 = Person(\"Alice\", 30)\n",
    "p2 = Person(\"Bob\", 25)\n",
    "\n",
    "p1.greet()\n",
    "p2.greet()  "
   ]
  },
  {
   "cell_type": "code",
   "execution_count": 116,
   "id": "8e104d45-2780-43c2-8c20-628fb6e3d3be",
   "metadata": {},
   "outputs": [
    {
     "name": "stdout",
     "output_type": "stream",
     "text": [
      "Alice's average grade: 84.33\n",
      "Bob's average grade: 90.00\n"
     ]
    }
   ],
   "source": [
    "#12. Implement a class Student with attributes name and grades. Create a method average_grade() to compute the average of the grades.\n",
    "#code>>\n",
    "class Student:\n",
    "    def __init__(self, name, grades):\n",
    "        self.name = name\n",
    "        self.grades = grades\n",
    "\n",
    "    def average_grade(self):\n",
    "        if not self.grades:\n",
    "            return 0\n",
    "        return sum(self.grades) / len(self.grades)\n",
    "\n",
    "# Example usage\n",
    "s1 = Student(\"Alice\", [85, 90, 78])\n",
    "s2 = Student(\"Bob\", [92, 88])\n",
    "\n",
    "print(f\"{s1.name}'s average grade: {s1.average_grade():.2f}\")\n",
    "print(f\"{s2.name}'s average grade: {s2.average_grade():.2f}\")  "
   ]
  },
  {
   "cell_type": "code",
   "execution_count": 117,
   "id": "877711cb-c03c-4ec3-9be6-33531a9a7f53",
   "metadata": {},
   "outputs": [
    {
     "name": "stdout",
     "output_type": "stream",
     "text": [
      "Area of rectangle: 20\n"
     ]
    }
   ],
   "source": [
    "#13. Create a class Rectangle with methods set_dimensions() to set the dimensions and area() to calculate the area\n",
    "#code>>\n",
    "class Rectangle:\n",
    "    def __init__(self):\n",
    "        self.length = 0\n",
    "        self.width = 0\n",
    "\n",
    "    def set_dimensions(self, length, width):\n",
    "        self.length = length\n",
    "        self.width = width\n",
    "\n",
    "    def area(self):\n",
    "        return self.length * self.width\n",
    "\n",
    "rect = Rectangle()\n",
    "rect.set_dimensions(5, 4)\n",
    "print(f\"Area of rectangle: {rect.area()}\")"
   ]
  },
  {
   "cell_type": "code",
   "execution_count": 118,
   "id": "703183c0-33c0-4a31-9417-820c5a32f20f",
   "metadata": {},
   "outputs": [
    {
     "name": "stdout",
     "output_type": "stream",
     "text": [
      "Alice's salary: $800\n",
      "Bob's salary: $1700\n"
     ]
    }
   ],
   "source": [
    "#14. Create a class Employee with a method calculate_salary() that computes the salary based on hours worked and hourly rate. Create a derived class Manager that adds a bonus to the salary.\n",
    "#code>>\n",
    "class Employee:\n",
    "    def __init__(self, name, hours_worked, hourly_rate):\n",
    "        self.name = name\n",
    "        self.hours_worked = hours_worked\n",
    "        self.hourly_rate = hourly_rate\n",
    "\n",
    "    def calculate_salary(self):\n",
    "        return self.hours_worked * self.hourly_rate\n",
    "\n",
    "class Manager(Employee):\n",
    "    def __init__(self, name, hours_worked, hourly_rate, bonus):\n",
    "        super().__init__(name, hours_worked, hourly_rate)\n",
    "        self.bonus = bonus\n",
    "\n",
    "    def calculate_salary(self):\n",
    "        base_salary = super().calculate_salary()\n",
    "        return base_salary + self.bonus\n",
    "\n",
    "e1 = Employee(\"Alice\", 40, 20)\n",
    "m1 = Manager(\"Bob\", 40, 30, 500)\n",
    "\n",
    "print(f\"{e1.name}'s salary: ${e1.calculate_salary()}\")\n",
    "print(f\"{m1.name}'s salary: ${m1.calculate_salary()}\")"
   ]
  },
  {
   "cell_type": "code",
   "execution_count": 122,
   "id": "789ee8b7-f318-403e-9467-9a3e3ddfd533",
   "metadata": {},
   "outputs": [
    {
     "data": {
      "text/plain": [
       "400"
      ]
     },
     "execution_count": 122,
     "metadata": {},
     "output_type": "execute_result"
    }
   ],
   "source": [
    "#15.Create a class Product with attributes name, price, and quantity. Implement a method total_price() that calculates the total price of the product.\n",
    "#code>>\n",
    "class product:\n",
    "    def __init__(self, name, price, quantity):\n",
    "        self.name = name\n",
    "        self.price = price\n",
    "        self.quantity = quantity\n",
    "\n",
    "    def total_price(self):\n",
    "        return self.price*self.quantity\n",
    "\n",
    "#Ex:-\n",
    "p1 = product(\"Biscuit\", 20, 20)\n",
    "p1.total_price()"
   ]
  },
  {
   "cell_type": "code",
   "execution_count": 124,
   "id": "ecb1660f-8664-407d-b312-3800b028ab34",
   "metadata": {},
   "outputs": [
    {
     "name": "stdout",
     "output_type": "stream",
     "text": [
      "Moo\n",
      "Baa\n"
     ]
    }
   ],
   "source": [
    "#16. Create a class Animal with an abstract method sound(). Create two derived classes Cow and Sheep that implement the sound() method.\n",
    "#code>>\n",
    "class Animal:\n",
    "    @abstractmethod\n",
    "    def sound(self):\n",
    "        pass\n",
    "\n",
    "class Cow(Animal):\n",
    "    def sound(self):\n",
    "        return \"Moo\"\n",
    "\n",
    "class Sheep(Animal):\n",
    "    def sound(self):\n",
    "        return \"Baa\"\n",
    "\n",
    "c = Cow()\n",
    "s = Sheep()\n",
    "\n",
    "print(c.sound())\n",
    "print(s.sound())"
   ]
  },
  {
   "cell_type": "code",
   "execution_count": 131,
   "id": "09a0d7e6-51d6-46cf-b860-96a49b36445a",
   "metadata": {},
   "outputs": [
    {
     "data": {
      "text/plain": [
       "\"'the house'by no one published in 1389\""
      ]
     },
     "execution_count": 131,
     "metadata": {},
     "output_type": "execute_result"
    }
   ],
   "source": [
    "#17. Create a class Book with attributes title, author, and year_published. Add a method get_book_info() that returns a formatted string with the book's details.\n",
    "#code>>\n",
    "class Book:\n",
    "    def __init__(self, title, author, year_published):\n",
    "        self.title = title\n",
    "        self.author = author\n",
    "        self.year_published = year_published\n",
    "\n",
    "    def get_book_info(self):\n",
    "        return f\"'{self.title}'by {self.author} published in {self.year_published}\"\n",
    "\n",
    "#Ex:\n",
    "b = Book(\"the house\", \"no one\", 1389)\n",
    "b.get_book_info()"
   ]
  },
  {
   "cell_type": "code",
   "execution_count": 132,
   "id": "ca0d7981-40b4-4927-8b96-fe280cbacdef",
   "metadata": {},
   "outputs": [
    {
     "name": "stdout",
     "output_type": "stream",
     "text": [
      "Address: 123 Luxury Lane, Price: $2500000, Rooms: 12\n"
     ]
    }
   ],
   "source": [
    "#18. Create a class House with attributes address and price. Create a derived class Mansion that adds an attribute number_of_rooms.\n",
    "#code>>\n",
    "# Base class\n",
    "class House:\n",
    "    def __init__(self, address, price):\n",
    "        self.address = address\n",
    "        self.price = price\n",
    "\n",
    "    def show_info(self):\n",
    "        return f\"Address: {self.address}, Price: ${self.price}\"\n",
    "\n",
    "# Derived class\n",
    "class Mansion(House):\n",
    "    def __init__(self, address, price, number_of_rooms):\n",
    "        super().__init__(address, price)\n",
    "        self.number_of_rooms = number_of_rooms\n",
    "\n",
    "    def show_info(self):\n",
    "        base_info = super().show_info()\n",
    "        return f\"{base_info}, Rooms: {self.number_of_rooms}\"\n",
    "\n",
    "# Example usage\n",
    "m = Mansion(\"123 Luxury Lane\", 2500000, 12)\n",
    "print(m.show_info())"
   ]
  }
 ],
 "metadata": {
  "kernelspec": {
   "display_name": "Python 3 (ipykernel)",
   "language": "python",
   "name": "python3"
  },
  "language_info": {
   "codemirror_mode": {
    "name": "ipython",
    "version": 3
   },
   "file_extension": ".py",
   "mimetype": "text/x-python",
   "name": "python",
   "nbconvert_exporter": "python",
   "pygments_lexer": "ipython3",
   "version": "3.12.1"
  }
 },
 "nbformat": 4,
 "nbformat_minor": 5
}
