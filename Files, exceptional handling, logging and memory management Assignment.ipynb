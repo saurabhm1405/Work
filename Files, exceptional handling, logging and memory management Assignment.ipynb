{
 "cells": [
  {
   "cell_type": "code",
   "execution_count": 1,
   "id": "2519dd01-f240-4d88-9c20-96e87dd4aa60",
   "metadata": {},
   "outputs": [],
   "source": [
    "#Name:- Saurabh\n",
    "#Mobile:-7887488929\n",
    "#E-Mail:-saurabhm1405@gmail.com\n",
    "#Github link:-"
   ]
  },
  {
   "cell_type": "code",
   "execution_count": 4,
   "id": "704fe36d-ef25-4f9a-9883-4b40dce9ca1a",
   "metadata": {},
   "outputs": [
    {
     "data": {
      "text/plain": [
       "'Compiled languages: Code is translated before execution into machine code.\\nInterpreted languages: Code is translated during execution by an interpreter.'"
      ]
     },
     "execution_count": 4,
     "metadata": {},
     "output_type": "execute_result"
    }
   ],
   "source": [
    "# 1. What is the difference between interpreted and compiled languages?\n",
    "#Ans:-\n",
    "'''Compiled languages: Code is translated before execution into machine code.\n",
    "Interpreted languages: Code is translated during execution by an interpreter.'''"
   ]
  },
  {
   "cell_type": "code",
   "execution_count": 3,
   "id": "0e2829a9-825e-467f-b5ce-a7b92c1afd0f",
   "metadata": {},
   "outputs": [
    {
     "data": {
      "text/plain": [
       "'Exception handling in Python is a way to gracefully handle errors or unexpected events that occur during the execution of a program,\\nso the program doesn’t crash.'"
      ]
     },
     "execution_count": 3,
     "metadata": {},
     "output_type": "execute_result"
    }
   ],
   "source": [
    "# 2. What is exception handling in Python?\n",
    "#Ans:-\n",
    "'''Exception handling in Python is a way to gracefully handle errors or unexpected events that occur during the execution of a program,\n",
    "so the program doesn’t crash.'''"
   ]
  },
  {
   "cell_type": "code",
   "execution_count": 5,
   "id": "69498ce1-be3e-441e-8833-a09004fdaec5",
   "metadata": {},
   "outputs": [
    {
     "data": {
      "text/plain": [
       "'The finally block is used to define cleanup actions that must be executed, no matter what happens in the try or except blocks.'"
      ]
     },
     "execution_count": 5,
     "metadata": {},
     "output_type": "execute_result"
    }
   ],
   "source": [
    "# 3. What is the purpose of the finally block in exception handling?\n",
    "#Ans:-\n",
    "'''The finally block is used to define cleanup actions that must be executed, no matter what happens in the try or except blocks.'''"
   ]
  },
  {
   "cell_type": "code",
   "execution_count": 6,
   "id": "d2646909-6c78-45f1-9430-d6273938cf8b",
   "metadata": {},
   "outputs": [
    {
     "data": {
      "text/plain": [
       "'Logging in Python is a built-in mechanism to record messages about events that happen while a program runs — such as errors, warnings,and debugging information.\\nIt’s especially useful for tracking issues, understanding program flow, and monitoring software in production.'"
      ]
     },
     "execution_count": 6,
     "metadata": {},
     "output_type": "execute_result"
    }
   ],
   "source": [
    "# 4.What is logging in Python?\n",
    "#Ans:-\n",
    "'''Logging in Python is a built-in mechanism to record messages about events that happen while a program runs — such as errors, warnings,and debugging information.\n",
    "It’s especially useful for tracking issues, understanding program flow, and monitoring software in production.'''"
   ]
  },
  {
   "cell_type": "code",
   "execution_count": 7,
   "id": "67405f88-309a-47f1-ba8b-99b7e8353be3",
   "metadata": {},
   "outputs": [
    {
     "data": {
      "text/plain": [
       "'The __del__ method in Python is a special method called a destructor.\\nIt is automatically invoked when an object is about to be destroyed, typically when it is garbage collected.'"
      ]
     },
     "execution_count": 7,
     "metadata": {},
     "output_type": "execute_result"
    }
   ],
   "source": [
    "# 5. What is the significance of the __del__ method in Python?\n",
    "#Ans:-\n",
    "'''The __del__ method in Python is a special method called a destructor.\n",
    "It is automatically invoked when an object is about to be destroyed, typically when it is garbage collected.'''"
   ]
  },
  {
   "cell_type": "code",
   "execution_count": 8,
   "id": "26daaa00-202c-4b1f-8d9b-dacb0bf62787",
   "metadata": {},
   "outputs": [
    {
     "data": {
      "text/plain": [
       "'Both import and from ... import are used to bring external modules or specific parts of a module into your Python code.\\nBut they differ in how and what they import.'"
      ]
     },
     "execution_count": 8,
     "metadata": {},
     "output_type": "execute_result"
    }
   ],
   "source": [
    "# 6. What is the difference between import and from ... import in Python?\n",
    "#Ans:-\n",
    "'''Both import and from ... import are used to bring external modules or specific parts of a module into your Python code.\n",
    "But they differ in how and what they import.'''"
   ]
  },
  {
   "cell_type": "code",
   "execution_count": 9,
   "id": "5e9392f0-bf6e-48d3-a54a-9ecd7350eaee",
   "metadata": {},
   "outputs": [
    {
     "data": {
      "text/plain": [
       "\"In Python, you can handle multiple exceptions using several techniques depending on what you want to do. Here's a breakdown of the most common approaches\\n>Catch multiple exceptions in a single except block\\n>Use multiple except blocks\\n>Use a generic except block (catch-all)\\n>Use else and finally\""
      ]
     },
     "execution_count": 9,
     "metadata": {},
     "output_type": "execute_result"
    }
   ],
   "source": [
    "# 7. How can you handle multiple exceptions in Python?\n",
    "#Ans:-\n",
    "'''In Python, you can handle multiple exceptions using several techniques depending on what you want to do. Here's a breakdown of the most common approaches\n",
    ">Catch multiple exceptions in a single except block\n",
    ">Use multiple except blocks\n",
    ">Use a generic except block (catch-all)\n",
    ">Use else and finally'''"
   ]
  },
  {
   "cell_type": "code",
   "execution_count": 10,
   "id": "534067d4-869e-4589-a284-dd8079bb00b0",
   "metadata": {},
   "outputs": [
    {
     "data": {
      "text/plain": [
       "\"The with statement in Python is used to manage resources like file streams efficiently and safely, especially when working with files. \\nIts main purpose is to ensure that resources are properly cleaned up, \\nsuch as automatically closing a file after it's no longer needed—even if an error occurs.\""
      ]
     },
     "execution_count": 10,
     "metadata": {},
     "output_type": "execute_result"
    }
   ],
   "source": [
    "# 8. What is the purpose of the with statement when handling files in Python?\n",
    "#Ans:-\n",
    "'''The with statement in Python is used to manage resources like file streams efficiently and safely, especially when working with files. \n",
    "Its main purpose is to ensure that resources are properly cleaned up, \n",
    "such as automatically closing a file after it's no longer needed—even if an error occurs.'''"
   ]
  },
  {
   "cell_type": "code",
   "execution_count": 11,
   "id": "499c3fe2-85c7-4f29-a3ab-05c434e99fd5",
   "metadata": {},
   "outputs": [
    {
     "data": {
      "text/plain": [
       "'Comparison:\\nFeature\\t                                         Multithreading\\t                             Multiprocessing\\nRuns in\\t                                      Same process (multiple threads)\\t             Multiple processes\\nMemory\\t                                            Shared\\t                                     Separate\\nPerformance\\t                                    Good for I/O-bound tasks\\t               Good for CPU-bound tasks\\nGIL effect\\t                                  Yes (limits true parallelism)\\t                No (can run in true parallel)\\nOverhead\\t                                          Low\\t                              High (more memory and setup time)'"
      ]
     },
     "execution_count": 11,
     "metadata": {},
     "output_type": "execute_result"
    }
   ],
   "source": [
    "# 9. What is the difference between multithreading and multiprocessing?\n",
    "#Ans:-\n",
    "'''Comparison:\n",
    "Feature\t                                         Multithreading\t                             Multiprocessing\n",
    "Runs in\t                                      Same process (multiple threads)\t             Multiple processes\n",
    "Memory\t                                            Shared\t                                     Separate\n",
    "Performance\t                                    Good for I/O-bound tasks\t               Good for CPU-bound tasks\n",
    "GIL effect\t                                  Yes (limits true parallelism)\t                No (can run in true parallel)\n",
    "Overhead\t                                          Low\t                              High (more memory and setup time)'''"
   ]
  },
  {
   "cell_type": "code",
   "execution_count": 12,
   "id": "9a63c47e-1027-4198-8e11-21bd59984873",
   "metadata": {},
   "outputs": [
    {
     "data": {
      "text/plain": [
       "'Using logging in a program offers several important advantages over using simple print() statements. \\nIt improves debugging, monitoring, and maintainability of your code, especially in larger applications or production environments.'"
      ]
     },
     "execution_count": 12,
     "metadata": {},
     "output_type": "execute_result"
    }
   ],
   "source": [
    "# 10. What are the advantages of using logging in a program?\n",
    "#Ans:-\n",
    "'''Using logging in a program offers several important advantages over using simple print() statements. \n",
    "It improves debugging, monitoring, and maintainability of your code, especially in larger applications or production environments.'''"
   ]
  },
  {
   "cell_type": "code",
   "execution_count": 14,
   "id": "717c0d76-ecef-412a-8872-01ead6894c45",
   "metadata": {},
   "outputs": [
    {
     "data": {
      "text/plain": [
       "\"Memory management in Python refers to how Python handles the allocation, reuse, and deallocation of memory during program execution. \\nPython does this mostly automatically, so developers typically don't need to manage memory manually (unlike in languages like C/C++).\""
      ]
     },
     "execution_count": 14,
     "metadata": {},
     "output_type": "execute_result"
    }
   ],
   "source": [
    "# 11. What is memory management in Python?\n",
    "#Ans:-\n",
    "'''Memory management in Python refers to how Python handles the allocation, reuse, and deallocation of memory during program execution. \n",
    "Python does this mostly automatically, so developers typically don't need to manage memory manually (unlike in languages like C/C++).'''"
   ]
  },
  {
   "cell_type": "code",
   "execution_count": 15,
   "id": "d3935790-9983-4465-8603-6aa6f62400e2",
   "metadata": {},
   "outputs": [
    {
     "data": {
      "text/plain": [
       "'In Python, exception handling is used to catch and respond to runtime errors gracefully, without crashing the program.\\nThe process involves a few basic, structured steps using keywords like try, except, else, and finally.'"
      ]
     },
     "execution_count": 15,
     "metadata": {},
     "output_type": "execute_result"
    }
   ],
   "source": [
    "# 12. What are the basic steps involved in exception handling in Python?\n",
    "#Ans:-\n",
    "'''In Python, exception handling is used to catch and respond to runtime errors gracefully, without crashing the program.\n",
    "The process involves a few basic, structured steps using keywords like try, except, else, and finally.'''"
   ]
  },
  {
   "cell_type": "code",
   "execution_count": 17,
   "id": "c7f4b5c2-9391-492a-8ce5-2db8e5f81fa8",
   "metadata": {},
   "outputs": [
    {
     "data": {
      "text/plain": [
       "'Memory management is important in Python (and any programming language) because it directly affects your program’s performance, stability, and scalability. \\nEven though Python automates much of this, understanding it helps you write more efficient, reliable, and bug-free code.'"
      ]
     },
     "execution_count": 17,
     "metadata": {},
     "output_type": "execute_result"
    }
   ],
   "source": [
    "# 13. Why is memory management important in Python?\n",
    "#Ans:-\n",
    "'''Memory management is important in Python (and any programming language) because it directly affects your program’s performance, stability, and scalability. \n",
    "Even though Python automates much of this, understanding it helps you write more efficient, reliable, and bug-free code.'''"
   ]
  },
  {
   "cell_type": "code",
   "execution_count": 18,
   "id": "9ebc1b30-b398-4574-90b6-65a1b8654fb1",
   "metadata": {},
   "outputs": [
    {
     "data": {
      "text/plain": [
       "'The try and except blocks are the core of exception handling in Python. \\nThey allow your program to handle errors gracefully instead of crashing when something goes wrong.'"
      ]
     },
     "execution_count": 18,
     "metadata": {},
     "output_type": "execute_result"
    }
   ],
   "source": [
    "# 14. What is the role of try and except in exception handling?\n",
    "#Ans:-\n",
    "'''The try and except blocks are the core of exception handling in Python. \n",
    "They allow your program to handle errors gracefully instead of crashing when something goes wrong.'''"
   ]
  },
  {
   "cell_type": "code",
   "execution_count": 19,
   "id": "34d323b6-6b57-4722-a887-83123a097055",
   "metadata": {},
   "outputs": [
    {
     "data": {
      "text/plain": [
       "\"Python’s garbage collection (GC) system is responsible for automatically managing memory, by cleaning up objects that are no longer needed, so the program doesn't run out of memory.\\nIt uses a combination of:\\nReference Counting\\nGenerational Garbage Collection\""
      ]
     },
     "execution_count": 19,
     "metadata": {},
     "output_type": "execute_result"
    }
   ],
   "source": [
    "# 15. How does Python's garbage collection system work?\n",
    "#Ans:-\n",
    "'''Python’s garbage collection (GC) system is responsible for automatically managing memory, by cleaning up objects that are no longer needed, so the program doesn't run out of memory.\n",
    "It uses a combination of:\n",
    "Reference Counting\n",
    "Generational Garbage Collection'''"
   ]
  },
  {
   "cell_type": "code",
   "execution_count": 20,
   "id": "2c99d441-9fca-4431-891d-891009bfd49f",
   "metadata": {},
   "outputs": [
    {
     "data": {
      "text/plain": [
       "\"The else block in Python's exception handling is used to define code that should run only if no exceptions occur in the try block.\\nPurpose of the else Block\\nTo separate error-free logic from exception-handling logic.\\nHelps keep code cleaner and more readable.\\nEnsures certain code runs only if the try block succeeds (i.e., no exception is raised).\""
      ]
     },
     "execution_count": 20,
     "metadata": {},
     "output_type": "execute_result"
    }
   ],
   "source": [
    "# 16. What is the purpose of the else block in exception handling?\n",
    "#Ans:-\n",
    "'''The else block in Python's exception handling is used to define code that should run only if no exceptions occur in the try block.\n",
    "Purpose of the else Block\n",
    "To separate error-free logic from exception-handling logic.\n",
    "Helps keep code cleaner and more readable.\n",
    "Ensures certain code runs only if the try block succeeds (i.e., no exception is raised).'''"
   ]
  },
  {
   "cell_type": "code",
   "execution_count": 21,
   "id": "94f5d9f6-7bf6-4f9e-95a8-f08ae32b70c6",
   "metadata": {},
   "outputs": [
    {
     "data": {
      "text/plain": [
       "'Common Logging Levels in Python (from lowest to highest severity):\\nLevel\\t           Numeric Value\\t                                                           Description\\nDEBUG\\t               10\\t                   Detailed information for diagnosing problems.Typically used for development and debugging.\\nINFO\\t               20\\t                       General information about program execution (e.g., start-up, shutdown, key operations).\\nWARNING\\t               30                            An indication that something unexpected happened, but the program can still run.\\nERROR\\t               40\\t                             A serious issue—something went wrong that may affect part of the program.\\nCRITICAL\\t           50\\t                                A very serious error—program might not be able to continue running.'"
      ]
     },
     "execution_count": 21,
     "metadata": {},
     "output_type": "execute_result"
    }
   ],
   "source": [
    "# 17. What are the common logging levels in Python?\n",
    "#Ans:-\n",
    "'''Common Logging Levels in Python (from lowest to highest severity):\n",
    "Level\t           Numeric Value\t                                                           Description\n",
    "DEBUG\t               10\t                   Detailed information for diagnosing problems.Typically used for development and debugging.\n",
    "INFO\t               20\t                       General information about program execution (e.g., start-up, shutdown, key operations).\n",
    "WARNING\t               30                            An indication that something unexpected happened, but the program can still run.\n",
    "ERROR\t               40\t                             A serious issue—something went wrong that may affect part of the program.\n",
    "CRITICAL\t           50\t                                A very serious error—program might not be able to continue running.'''"
   ]
  },
  {
   "cell_type": "code",
   "execution_count": 22,
   "id": "a9493285-451f-4859-8992-e296c300c900",
   "metadata": {},
   "outputs": [
    {
     "data": {
      "text/plain": [
       "'Comparison\\nFeature\\t                                               os.fork()\\t                                        multiprocessing\\nLevel\\t                                      Low-level system call\\t                                   High-level Python module\\nPlatform support\\t                             Unix/Linux only\\t                               Cross-platform (Windows, macOS, Linux)\\nEase of use\\t                                   Manual and error-prone\\t                                  Easy and safer to use\\nIPC (communication)\\t                                Manual setup\\t                                  Built-in tools (Queue, Pipe, etc.)\\nPortability                                          \\tPoor\\t                                                 Excellent\\nBest for\\t                                System-level or advanced process control\\t                  General-purpose parallelism'"
      ]
     },
     "execution_count": 22,
     "metadata": {},
     "output_type": "execute_result"
    }
   ],
   "source": [
    "# 18. What is the difference between os.fork() and multiprocessing in Python?\n",
    "#Ans:-\n",
    "'''Comparison\n",
    "Feature\t                                               os.fork()\t                                        multiprocessing\n",
    "Level\t                                      Low-level system call\t                                   High-level Python module\n",
    "Platform support\t                             Unix/Linux only\t                               Cross-platform (Windows, macOS, Linux)\n",
    "Ease of use\t                                   Manual and error-prone\t                                  Easy and safer to use\n",
    "IPC (communication)\t                                Manual setup\t                                  Built-in tools (Queue, Pipe, etc.)\n",
    "Portability                                          \tPoor\t                                                 Excellent\n",
    "Best for\t                                System-level or advanced process control\t                  General-purpose parallelism'''"
   ]
  },
  {
   "cell_type": "code",
   "execution_count": 23,
   "id": "4b1c73ef-c9f4-4de3-a588-2374d8333ef2",
   "metadata": {},
   "outputs": [
    {
     "data": {
      "text/plain": [
       "'Summary Table\\nReason\\t                                 Benefit\\nReleases resources\\t             Prevents resource exhaustion\\nFlushes buffers\\t                  Ensures all data is saved\\nAvoids corruption\\t               Maintains file integrity\\nAllows file access\\t             Other programs can use the file\\nEncourages good practice\\t         Cleaner, safer code'"
      ]
     },
     "execution_count": 23,
     "metadata": {},
     "output_type": "execute_result"
    }
   ],
   "source": [
    "# 19. What is the importance of closing a file in Python?\n",
    "#Ans:-\n",
    "'''Summary Table\n",
    "Reason\t                                 Benefit\n",
    "Releases resources\t             Prevents resource exhaustion\n",
    "Flushes buffers\t                  Ensures all data is saved\n",
    "Avoids corruption\t               Maintains file integrity\n",
    "Allows file access\t             Other programs can use the file\n",
    "Encourages good practice\t         Cleaner, safer code'''"
   ]
  },
  {
   "cell_type": "code",
   "execution_count": 24,
   "id": "f50854fb-5392-4ba8-9d34-0307964d9954",
   "metadata": {},
   "outputs": [
    {
     "data": {
      "text/plain": [
       "'Summary Table\\nMethod\\t                                Reads\\t                     Returns\\t                                    Use Case\\nfile.read()\\t                  Entire file or fixed byt         whole content as string\\t                   When you want the full file content\\nfile.readline()\\t                 One line at a time\\t            Single line as string\\t                      Processing file line-by-line'"
      ]
     },
     "execution_count": 24,
     "metadata": {},
     "output_type": "execute_result"
    }
   ],
   "source": [
    "# 20. What is the difference between file.read() and file.readline() in Python?\n",
    "#Ans:-\n",
    "'''Summary Table\n",
    "Method\t                                Reads\t                     Returns\t                                    Use Case\n",
    "file.read()\t                  Entire file or fixed byt         whole content as string\t                   When you want the full file content\n",
    "file.readline()\t                 One line at a time\t            Single line as string\t                      Processing file line-by-line'''"
   ]
  },
  {
   "cell_type": "code",
   "execution_count": 26,
   "id": "f447a2b8-71ea-459d-ac5c-d780297c788d",
   "metadata": {},
   "outputs": [
    {
     "data": {
      "text/plain": [
       "'Helps developers record messages about program execution, errors, warnings, or informational events.\\nProvides a way to monitor and debug applications by writing logs to the console, files, or other outputs.\\nReplaces the need for print() statements for diagnostics with a more flexible and configurable system.'"
      ]
     },
     "execution_count": 26,
     "metadata": {},
     "output_type": "execute_result"
    }
   ],
   "source": [
    "# 21. What is the logging module in Python used for?\n",
    "#Ans:-\n",
    "'''Helps developers record messages about program execution, errors, warnings, or informational events.\n",
    "Provides a way to monitor and debug applications by writing logs to the console, files, or other outputs.\n",
    "Replaces the need for print() statements for diagnostics with a more flexible and configurable system.'''"
   ]
  },
  {
   "cell_type": "code",
   "execution_count": 27,
   "id": "3a68017b-9592-402c-be4f-3f259f0ed2e4",
   "metadata": {},
   "outputs": [
    {
     "data": {
      "text/plain": [
       "'Manage and manipulate files and directories at the OS level.\\nPerform tasks like creating, deleting, renaming, and checking properties of files and directories.\\nWork with file paths in a platform-independent way.\\nGet information about files (like size, modification time).\\nControl file permissions and access.'"
      ]
     },
     "execution_count": 27,
     "metadata": {},
     "output_type": "execute_result"
    }
   ],
   "source": [
    "# 22. What is the os module in Python used for in file handling?\n",
    "#Ans:-\n",
    "'''Manage and manipulate files and directories at the OS level.\n",
    "Perform tasks like creating, deleting, renaming, and checking properties of files and directories.\n",
    "Work with file paths in a platform-independent way.\n",
    "Get information about files (like size, modification time).\n",
    "Control file permissions and access.'''"
   ]
  },
  {
   "cell_type": "code",
   "execution_count": 28,
   "id": "01f68a50-4721-48e6-bc5d-d6d397661cb8",
   "metadata": {},
   "outputs": [
    {
     "data": {
      "text/plain": [
       "'Perform tasks like creating, deleting, renaming, and checking properties of files and directories.\\nWork with file paths in a platform-independent way.\\nGet information about files (like size, modification time).\\nControl file permissions and access.'"
      ]
     },
     "execution_count": 28,
     "metadata": {},
     "output_type": "execute_result"
    }
   ],
   "source": [
    "# 23. Manage and manipulate files and directories at the OS level.\n",
    "#Ans:-\n",
    "'''Perform tasks like creating, deleting, renaming, and checking properties of files and directories.\n",
    "Work with file paths in a platform-independent way.\n",
    "Get information about files (like size, modification time).\n",
    "Control file permissions and access.'''"
   ]
  },
  {
   "cell_type": "code",
   "execution_count": 30,
   "id": "1657bb30-3772-4bd7-ad0e-44ac3718c520",
   "metadata": {},
   "outputs": [
    {
     "data": {
      "text/plain": [
       "'ExceptionType can be any built-in or custom exception class (e.g., ValueError, TypeError, RuntimeError, or your own).\\nYou can optionally include a custom message to describe the error.'"
      ]
     },
     "execution_count": 30,
     "metadata": {},
     "output_type": "execute_result"
    }
   ],
   "source": [
    "# 24. How do you raise an exception manually in Python?\n",
    "#Ans:-\n",
    "# raise ExceptionType(\"Optional error message\")\n",
    "'''ExceptionType can be any built-in or custom exception class (e.g., ValueError, TypeError, RuntimeError, or your own).\n",
    "You can optionally include a custom message to describe the error.'''"
   ]
  },
  {
   "cell_type": "code",
   "execution_count": 31,
   "id": "05d6bf64-c124-41dd-a9bf-7a3427a53bc5",
   "metadata": {},
   "outputs": [
    {
     "data": {
      "text/plain": [
       "'Benefit\\t                                  Description\\nResponsiveness\\t                   Keeps UI or services active during tasks\\nEfficient I/O handling\\t           Makes good use of time during I/O waits\\nLower resource use\\t               Lighter than full processes\\nNatural for concurrency\\t           Good for apps with naturally parallel parts'"
      ]
     },
     "execution_count": 31,
     "metadata": {},
     "output_type": "execute_result"
    }
   ],
   "source": [
    "# 25. Why is it important to use multithreading in certain applications?\n",
    "#Ans:-\n",
    "'''Benefit\t                                  Description\n",
    "Responsiveness\t                   Keeps UI or services active during tasks\n",
    "Efficient I/O handling\t           Makes good use of time during I/O waits\n",
    "Lower resource use\t               Lighter than full processes\n",
    "Natural for concurrency\t           Good for apps with naturally parallel parts'''"
   ]
  },
  {
   "cell_type": "code",
   "execution_count": 32,
   "id": "e9b6af81-f898-498d-9ac9-4f5ee947944e",
   "metadata": {},
   "outputs": [],
   "source": [
    "                                                            # Practical Questions"
   ]
  },
  {
   "cell_type": "code",
   "execution_count": 34,
   "id": "dc1969b2-058d-482a-85c5-06e5f55d6d39",
   "metadata": {},
   "outputs": [],
   "source": [
    "# 1. How can you open a file for writing in Python and write a string to it\n",
    "#code>>\n",
    "#example 1: Using with (Recommended Way)\n",
    "with open('example.txt', 'w') as file:\n",
    "    file.write(\"Hello, world!\")\n",
    "\n",
    "#Example 2: Manual Open and Close\n",
    "file = open('example.txt', 'w')\n",
    "file.write(\"Hello, world!\")\n",
    "file.close()"
   ]
  },
  {
   "cell_type": "code",
   "execution_count": 35,
   "id": "857d0a78-e405-4c67-ad1a-f0e31a4de768",
   "metadata": {},
   "outputs": [
    {
     "name": "stdout",
     "output_type": "stream",
     "text": [
      "Hello, world!"
     ]
    }
   ],
   "source": [
    "# 2. Write a Python program to read the contents of a file and print each line.\n",
    "#code>>\n",
    "# File path (you can change this to your actual file)\n",
    "file_path = 'example.txt'\n",
    "\n",
    "# Open the file in read mode\n",
    "with open(file_path, 'r') as file:\n",
    "    # Read and print each line\n",
    "    for line in file:\n",
    "        print(line, end='')  # end='' avoids double newlines"
   ]
  },
  {
   "cell_type": "code",
   "execution_count": 36,
   "id": "1c4a8c3b-7b8f-4b5e-81c0-c1588cbee376",
   "metadata": {},
   "outputs": [
    {
     "name": "stdout",
     "output_type": "stream",
     "text": [
      "Error: The file 'nonexistent_file.txt' does not exist.\n"
     ]
    }
   ],
   "source": [
    "# 3. How would you handle a case where the file doesn't exist while trying to open it for reading?\n",
    "#code>>\n",
    "file_path = 'nonexistent_file.txt'\n",
    "\n",
    "try:\n",
    "    with open(file_path, 'r') as file:\n",
    "        for line in file:\n",
    "            print(line, end='')\n",
    "except FileNotFoundError:\n",
    "    print(f\"Error: The file '{file_path}' does not exist.\")"
   ]
  },
  {
   "cell_type": "code",
   "execution_count": 37,
   "id": "ee018a47-9895-4df5-9838-0913ce8172c7",
   "metadata": {},
   "outputs": [
    {
     "name": "stdout",
     "output_type": "stream",
     "text": [
      "Error: The file 'source.txt' does not exist.\n"
     ]
    }
   ],
   "source": [
    "# 4.  Write a Python script that reads from one file and writes its content to another file.\n",
    "#code>>\n",
    "# Define file paths\n",
    "source_file = 'source.txt'\n",
    "destination_file = 'destination.txt'\n",
    "\n",
    "try:\n",
    "    # Open the source file in read mode and destination in write mode\n",
    "    with open(source_file, 'r') as src, open(destination_file, 'w') as dst:\n",
    "        for line in src:\n",
    "            dst.write(line)\n",
    "    print(f\"Contents copied from '{source_file}' to '{destination_file}' successfully.\")\n",
    "except FileNotFoundError:\n",
    "    print(f\"Error: The file '{source_file}' does not exist.\")\n",
    "except IOError as e:\n",
    "    print(f\"An I/O error occurred: {e}\")"
   ]
  },
  {
   "cell_type": "code",
   "execution_count": 38,
   "id": "57a74da8-cb87-4c55-963d-979d4cc5d4fd",
   "metadata": {},
   "outputs": [
    {
     "name": "stdout",
     "output_type": "stream",
     "text": [
      "Error: Cannot divide by zero.\n"
     ]
    }
   ],
   "source": [
    "# 5. How would you catch and handle division by zero error in Python?\n",
    "#code>>\n",
    "try:\n",
    "    numerator = 10\n",
    "    denominator = 0\n",
    "    result = numerator / denominator\n",
    "    print(\"Result:\", result)\n",
    "except ZeroDivisionError:\n",
    "    print(\"Error: Cannot divide by zero.\")"
   ]
  },
  {
   "cell_type": "code",
   "execution_count": 39,
   "id": "9aa31d0b-1234-4eef-a14d-b47e0173d29b",
   "metadata": {},
   "outputs": [
    {
     "name": "stdout",
     "output_type": "stream",
     "text": [
      "Error: Division by zero. Details have been logged.\n"
     ]
    }
   ],
   "source": [
    "# 6. Write a Python program that logs an error message to a log file when a division by zero exception occurs.\n",
    "#code>>\n",
    "import logging\n",
    "\n",
    "# Set up logging configuration\n",
    "logging.basicConfig(\n",
    "    filename='error_log.txt',      # Log file name\n",
    "    level=logging.ERROR,           # Log only ERROR level and above\n",
    "    format='%(asctime)s - %(levelname)s - %(message)s'\n",
    ")\n",
    "\n",
    "def divide(a, b):\n",
    "    try:\n",
    "        return a / b\n",
    "    except ZeroDivisionError as e:\n",
    "        logging.error(\"Attempted to divide by zero: a=%s, b=%s\", a, b)\n",
    "        print(\"Error: Division by zero. Details have been logged.\")\n",
    "\n",
    "# Example usage\n",
    "numerator = 10\n",
    "denominator = 0\n",
    "\n",
    "result = divide(numerator, denominator)"
   ]
  },
  {
   "cell_type": "code",
   "execution_count": 41,
   "id": "292ce34a-4b21-4ca8-833f-76b5b048fced",
   "metadata": {},
   "outputs": [],
   "source": [
    "# 7. How do you log information at different levels (INFO, ERROR, WARNING) in Python using the logging module?\n",
    "#code>>\n",
    "#>>Import and Configure Logging\n",
    "import logging\n",
    "# Set up basic configuration\n",
    "logging.basicConfig(\n",
    "    level=logging.DEBUG,  # Set the minimum log level to capture\n",
    "    format='%(asctime)s - %(levelname)s - %(message)s'\n",
    ")\n",
    "\n",
    "#>>Log Messages at Different Levels\n",
    "logging.debug(\"This is a DEBUG message\")     # Detailed diagnostic info\n",
    "logging.info(\"This is an INFO message\")      # General program info\n",
    "logging.warning(\"This is a WARNING message\") # Something unexpected\n",
    "logging.error(\"This is an ERROR message\")    # A serious problem\n",
    "logging.critical(\"This is a CRITICAL message\") # Very serious error"
   ]
  },
  {
   "cell_type": "code",
   "execution_count": 42,
   "id": "7d44e69a-5f1f-44ab-be3e-1834d3d8dcd5",
   "metadata": {},
   "outputs": [
    {
     "name": "stdout",
     "output_type": "stream",
     "text": [
      "Error: The file 'nonexistent_file.txt' was not found.\n"
     ]
    }
   ],
   "source": [
    "# 8. Write a program to handle a file opening error using exception handling?\n",
    "#code>>\n",
    "file_name = 'nonexistent_file.txt'\n",
    "\n",
    "try:\n",
    "    with open(file_name, 'r') as file:\n",
    "        content = file.read()\n",
    "        print(content)\n",
    "except FileNotFoundError:\n",
    "    print(f\"Error: The file '{file_name}' was not found.\")\n",
    "except IOError as e:\n",
    "    print(f\"An I/O error occurred: {e}\")"
   ]
  },
  {
   "cell_type": "code",
   "execution_count": 43,
   "id": "28062dbf-db6a-4f77-a4b7-7403c2969bc5",
   "metadata": {},
   "outputs": [
    {
     "name": "stdout",
     "output_type": "stream",
     "text": [
      "['Hello, world!']\n"
     ]
    }
   ],
   "source": [
    "# 9. How can you read a file line by line and store its content in a list in Python?\n",
    "#code>>\n",
    "file_path = 'example.txt'\n",
    "\n",
    "try:\n",
    "    with open(file_path, 'r') as file:\n",
    "        lines = file.readlines()  # Reads all lines into a list\n",
    "        print(lines)\n",
    "except FileNotFoundError:\n",
    "    print(f\"Error: The file '{file_path}' was not found.\")"
   ]
  },
  {
   "cell_type": "code",
   "execution_count": 44,
   "id": "a4bbfaf0-a1f1-4943-8099-9c581695cca9",
   "metadata": {},
   "outputs": [],
   "source": [
    "# 10. How can you append data to an existing file in Python?\n",
    "#code>>\n",
    "file_path = 'example.txt'\n",
    "\n",
    "with open(file_path, 'a') as file:\n",
    "    file.write(\"This line is appended.\\n\")"
   ]
  },
  {
   "cell_type": "code",
   "execution_count": 45,
   "id": "d3d0dab9-788e-497e-8de6-a89e99bd84d0",
   "metadata": {},
   "outputs": [
    {
     "name": "stdout",
     "output_type": "stream",
     "text": [
      "Error: The key 'city' does not exist in the dictionary.\n"
     ]
    }
   ],
   "source": [
    "# 11. Write a Python program that uses a try-except block to handle an error when attempting to access a dictionary key that doesn't exist.\n",
    "#code>>\n",
    "# Sample dictionary\n",
    "person = {\n",
    "    \"name\": \"Alice\",\n",
    "    \"age\": 30\n",
    "}\n",
    "\n",
    "try:\n",
    "    # Attempt to access a non-existent key\n",
    "    city = person[\"city\"]\n",
    "    print(\"City:\", city)\n",
    "except KeyError:\n",
    "    print(\"Error: The key 'city' does not exist in the dictionary.\")"
   ]
  },
  {
   "cell_type": "code",
   "execution_count": 47,
   "id": "958ee58a-e0eb-492f-b8c8-244881b88652",
   "metadata": {},
   "outputs": [
    {
     "name": "stdin",
     "output_type": "stream",
     "text": [
      "Enter a number:  12\n",
      "Enter another number:  23\n"
     ]
    },
    {
     "name": "stdout",
     "output_type": "stream",
     "text": [
      "Result: 0.5217391304347826\n",
      "Error: The specified key does not exist in the dictionary.\n"
     ]
    }
   ],
   "source": [
    "# 12. Write a program that demonstrates using multiple except blocks to handle different types of exceptions.\n",
    "#code>>\n",
    "try:\n",
    "    # Example: User input that may raise multiple types of errors\n",
    "    num1 = int(input(\"Enter a number: \"))\n",
    "    num2 = int(input(\"Enter another number: \"))\n",
    "    result = num1 / num2\n",
    "    print(\"Result:\", result)\n",
    "\n",
    "    # Try accessing a dictionary key that may not exist\n",
    "    data = {\"name\": \"Alice\"}\n",
    "    print(\"Age:\", data[\"age\"])\n",
    "\n",
    "except ValueError:\n",
    "    print(\"Error: Invalid input. Please enter numbers only.\")\n",
    "\n",
    "except ZeroDivisionError:\n",
    "    print(\"Error: Cannot divide by zero.\")\n",
    "\n",
    "except KeyError:\n",
    "    print(\"Error: The specified key does not exist in the dictionary.\")\n",
    "\n",
    "\n",
    "except Exception as e:\n",
    "    print(f\"An unexpected error occurred: {e}\")"
   ]
  },
  {
   "cell_type": "code",
   "execution_count": 48,
   "id": "60f2ce92-d57b-4110-945f-9fce25094705",
   "metadata": {},
   "outputs": [
    {
     "name": "stdout",
     "output_type": "stream",
     "text": [
      "Hello, world!This line is appended.\n",
      "\n"
     ]
    }
   ],
   "source": [
    "# 13. How would you check if a file exists before attempting to read it in Python?\n",
    "#code>>\n",
    "import os\n",
    "\n",
    "file_path = 'example.txt'\n",
    "\n",
    "if os.path.exists(file_path):\n",
    "    with open(file_path, 'r') as file:\n",
    "        content = file.read()\n",
    "        print(content)\n",
    "else:\n",
    "    print(f\"Error: File '{file_path}' does not exist.\")"
   ]
  },
  {
   "cell_type": "code",
   "execution_count": 49,
   "id": "77f17717-cd1f-4e9f-9ff8-7263a5e5af04",
   "metadata": {},
   "outputs": [],
   "source": [
    "# 14. Write a program that uses the logging module to log both informational and error messages.\n",
    "#code>>\n",
    "import logging\n",
    "\n",
    "# Configure logging\n",
    "logging.basicConfig(\n",
    "    filename='app.log',            # Log file name\n",
    "    level=logging.DEBUG,           # Log level threshold\n",
    "    format='%(asctime)s - %(levelname)s - %(message)s'\n",
    ")\n",
    "\n",
    "def divide(a, b):\n",
    "    logging.info(f\"Attempting to divide {a} by {b}\")\n",
    "    try:\n",
    "        result = a / b\n",
    "        logging.info(f\"Division successful: {result}\")\n",
    "        return result\n",
    "    except ZeroDivisionError:\n",
    "        logging.error(\"Division by zero error occurred\")\n",
    "        return None\n",
    "\n",
    "# Example usage\n",
    "divide(10, 2)\n",
    "divide(5, 0)"
   ]
  },
  {
   "cell_type": "code",
   "execution_count": 54,
   "id": "d264850e-a402-4c58-b14e-02703539dc27",
   "metadata": {},
   "outputs": [
    {
     "name": "stdout",
     "output_type": "stream",
     "text": [
      "File content:\n",
      "Hello, world!This line is appended.\n",
      "\n"
     ]
    }
   ],
   "source": [
    "# 15. Write a Python program that prints the content of a file and handles the case when the file is empty.\n",
    "#code>>\n",
    "def print_file_contents(file_path):\n",
    "    try:\n",
    "        with open(file_path, 'r') as file:\n",
    "            content = file.read()\n",
    "            if content.strip():  # Check if there's any non-whitespace content\n",
    "                print(\"File content:\")\n",
    "                print(content)\n",
    "            else:\n",
    "                print(f\"The file '{file_path}' is empty.\")\n",
    "    except FileNotFoundError:\n",
    "        print(f\"Error: The file '{file_path}' does not exist.\")\n",
    "    except IOError as e:\n",
    "        print(f\"An I/O error occurred: {e}\")\n",
    "\n",
    "# Example usage\n",
    "file_name = 'example.txt'\n",
    "print_file_contents(file_name)"
   ]
  },
  {
   "cell_type": "code",
   "execution_count": 58,
   "id": "a6ee15af-8d6e-41f6-bd06-cdd526e57289",
   "metadata": {},
   "outputs": [
    {
     "ename": "SyntaxError",
     "evalue": "invalid syntax (3737664223.py, line 3)",
     "output_type": "error",
     "traceback": [
      "  \u001b[36mCell\u001b[39m\u001b[36m \u001b[39m\u001b[32mIn[58]\u001b[39m\u001b[32m, line 3\u001b[39m\n\u001b[31m    \u001b[39m\u001b[31mpip install memory-profiler\u001b[39m\n        ^\n\u001b[31mSyntaxError\u001b[39m\u001b[31m:\u001b[39m invalid syntax\n"
     ]
    }
   ],
   "source": [
    "#16. Demonstrate how to use memory profiling to check the memory usage of a small program.\n",
    "#code>>\n",
    "pip install memory-profiler\n",
    "\n",
    "# filename: memory_test.py\n",
    "\n",
    "from memory_profiler import profile\n",
    "\n",
    "@profile\n",
    "def create_large_list():\n",
    "    my_list = [x * 2 for x in range(1000000)]\n",
    "    return my_list\n",
    "\n",
    "if __name__ == \"__main__\":\n",
    "    create_large_list()\n",
    "\n",
    "python -m memory_profiler memory_test.py"
   ]
  },
  {
   "cell_type": "code",
   "execution_count": 1,
   "id": "bcaa78e1-e0a7-4eeb-8ad1-982e156448b8",
   "metadata": {},
   "outputs": [
    {
     "name": "stdout",
     "output_type": "stream",
     "text": [
      "Numbers written to 'numbers.txt' successfully.\n"
     ]
    }
   ],
   "source": [
    "# 17. Write a Python program to create and write a list of numbers to a file, one number per line.\n",
    "#code>>\n",
    "numbers = [1, 2, 3, 4, 5, 6, 7, 8, 9, 10]  # Example list of numbers\n",
    "file_path = 'numbers.txt'\n",
    "\n",
    "with open(file_path, 'w') as file:\n",
    "    for number in numbers:\n",
    "        file.write(f\"{number}\\n\")\n",
    "\n",
    "print(f\"Numbers written to '{file_path}' successfully.\")"
   ]
  },
  {
   "cell_type": "code",
   "execution_count": 2,
   "id": "f673a7a4-2cfe-4c4f-bafc-b3f99057f8f9",
   "metadata": {},
   "outputs": [],
   "source": [
    "# 18. How would you implement a basic logging setup that logs to a file with rotation after 1MB?\n",
    "#code>>\n",
    "import logging\n",
    "from logging.handlers import RotatingFileHandler\n",
    "\n",
    "# Create logger\n",
    "logger = logging.getLogger(\"MyLogger\")\n",
    "logger.setLevel(logging.DEBUG)  # Capture all levels DEBUG and above\n",
    "\n",
    "# Create a rotating file handler\n",
    "handler = RotatingFileHandler(\n",
    "    \"app.log\",          # Log file name\n",
    "    maxBytes=1_000_000, # 1 MB\n",
    "    backupCount=3       # Keep up to 3 backup files\n",
    ")\n",
    "\n",
    "# Create formatter and add it to the handler\n",
    "formatter = logging.Formatter('%(asctime)s - %(levelname)s - %(message)s')\n",
    "handler.setFormatter(formatter)\n",
    "\n",
    "# Add handler to the logger\n",
    "logger.addHandler(handler)\n",
    "\n",
    "# Example usage\n",
    "logger.info(\"This is an info message.\")\n",
    "logger.error(\"This is an error message.\")"
   ]
  },
  {
   "cell_type": "code",
   "execution_count": 3,
   "id": "042d4ec0-b288-46d1-a006-f549993abe44",
   "metadata": {},
   "outputs": [
    {
     "name": "stdout",
     "output_type": "stream",
     "text": [
      "Error: List index out of range.\n"
     ]
    }
   ],
   "source": [
    "# 19. Write a program that handles both IndexError and KeyError using a try-except block.\n",
    "#code>>\n",
    "my_list = [10, 20, 30]\n",
    "my_dict = {'a': 1, 'b': 2}\n",
    "\n",
    "try:\n",
    "    # Attempt to access an invalid index\n",
    "    print(my_list[5])\n",
    "    \n",
    "    # Attempt to access a missing key\n",
    "    print(my_dict['c'])\n",
    "    \n",
    "except IndexError:\n",
    "    print(\"Error: List index out of range.\")\n",
    "    \n",
    "except KeyError:\n",
    "    print(\"Error: Key not found in dictionary.\")"
   ]
  },
  {
   "cell_type": "code",
   "execution_count": 4,
   "id": "a51984c9-178d-4532-80b3-fd7264ac5bb4",
   "metadata": {},
   "outputs": [
    {
     "name": "stdout",
     "output_type": "stream",
     "text": [
      "Hello, world!This line is appended.\n",
      "\n"
     ]
    }
   ],
   "source": [
    "# 20. How would you open a file and read its contents using a context manager in Python?\n",
    "#code>>\n",
    "file_path = 'example.txt'\n",
    "\n",
    "with open(file_path, 'r') as file:\n",
    "    content = file.read()\n",
    "\n",
    "print(content)"
   ]
  },
  {
   "cell_type": "code",
   "execution_count": 5,
   "id": "2ee3d972-6fc3-4246-9b8f-b33549b467cd",
   "metadata": {},
   "outputs": [
    {
     "name": "stdout",
     "output_type": "stream",
     "text": [
      "The word 'python' occurs 0 times in the file.\n"
     ]
    }
   ],
   "source": [
    "# 21. Write a Python program that reads a file and prints the number of occurrences of a specific word.\n",
    "#code>>\n",
    "def count_word_occurrences(file_path, word):\n",
    "    try:\n",
    "        with open(file_path, 'r') as file:\n",
    "            content = file.read().lower()  # Convert content to lowercase for case-insensitive matching\n",
    "        word_count = content.split().count(word.lower())\n",
    "        print(f\"The word '{word}' occurs {word_count} times in the file.\")\n",
    "    except FileNotFoundError:\n",
    "        print(f\"Error: The file '{file_path}' was not found.\")\n",
    "    except IOError as e:\n",
    "        print(f\"An error occurred while reading the file: {e}\")\n",
    "\n",
    "# Example usage\n",
    "file_name = 'example.txt'\n",
    "target_word = 'python'\n",
    "\n",
    "count_word_occurrences(file_name, target_word)"
   ]
  },
  {
   "cell_type": "code",
   "execution_count": 6,
   "id": "fd9e5013-26f7-41e8-b392-d6772c2451dc",
   "metadata": {},
   "outputs": [
    {
     "name": "stdout",
     "output_type": "stream",
     "text": [
      "Hello, world!This line is appended.\n",
      "\n"
     ]
    }
   ],
   "source": [
    "# 22. How can you check if a file is empty before attempting to read its contents.\n",
    "#code>>\n",
    "import os\n",
    "\n",
    "file_path = 'example.txt'\n",
    "\n",
    "if os.path.exists(file_path):\n",
    "    if os.path.getsize(file_path) > 0:\n",
    "        with open(file_path, 'r') as file:\n",
    "            content = file.read()\n",
    "            print(content)\n",
    "    else:\n",
    "        print(f\"The file '{file_path}' is empty.\")\n",
    "else:\n",
    "    print(f\"The file '{file_path}' does not exist.\")"
   ]
  },
  {
   "cell_type": "code",
   "execution_count": 7,
   "id": "13f302c0-a99c-4e91-a40c-f5846f273292",
   "metadata": {},
   "outputs": [
    {
     "name": "stdout",
     "output_type": "stream",
     "text": [
      "Hello, world!This line is appended.\n",
      "\n"
     ]
    }
   ],
   "source": [
    "# 23. Write a Python program that writes to a log file when an error occurs during file handling.\n",
    "#code>>\n",
    "import logging\n",
    "\n",
    "# Configure logging to write to a file named 'error.log'\n",
    "logging.basicConfig(\n",
    "    filename='error.log',\n",
    "    level=logging.ERROR,\n",
    "    format='%(asctime)s - %(levelname)s - %(message)s'\n",
    ")\n",
    "\n",
    "def read_file(file_path):\n",
    "    try:\n",
    "        with open(file_path, 'r') as file:\n",
    "            content = file.read()\n",
    "            print(content)\n",
    "    except Exception as e:\n",
    "        logging.error(f\"Error occurred while handling the file '{file_path}': {e}\")\n",
    "        print(\"An error occurred. Check the log file for details.\")\n",
    "\n",
    "# Example usage\n",
    "file_name = 'example.txt'\n",
    "read_file(file_name)"
   ]
  }
 ],
 "metadata": {
  "kernelspec": {
   "display_name": "Python 3 (ipykernel)",
   "language": "python",
   "name": "python3"
  },
  "language_info": {
   "codemirror_mode": {
    "name": "ipython",
    "version": 3
   },
   "file_extension": ".py",
   "mimetype": "text/x-python",
   "name": "python",
   "nbconvert_exporter": "python",
   "pygments_lexer": "ipython3",
   "version": "3.12.1"
  }
 },
 "nbformat": 4,
 "nbformat_minor": 5
}
