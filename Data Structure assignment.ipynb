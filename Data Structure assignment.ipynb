{
 "cells": [
  {
   "cell_type": "raw",
   "id": "f60b6f33-8991-46f3-aa75-0f29845e1d3d",
   "metadata": {},
   "source": [
    "Name- Saurabh\n",
    "Mobile- 7887488929\n",
    "E-Mail- saurabhm1405@gmail.com\n",
    "Assignment- Data types & Structures \n",
    "GitHub link-"
   ]
  },
  {
   "cell_type": "raw",
   "id": "cdab4a67-3b0f-46ae-be86-8dd11fbd1bd8",
   "metadata": {},
   "source": [
    "1) What are data structures, and why are they important?\n",
    "Answer:-Data structures are ways of organizing and storing data in a computer so that it can be accessed and modified efficiently. They are foundational to computer science and are used in virtually every program or system.\n",
    "\n",
    "Types of Data Structures\n",
    "They can be broadly categorized into two groups:\n",
    "\n",
    "1. Linear Data Structures\n",
    "These store data in a sequence.\n",
    "Array – Fixed-size collection of elements of the same type.\n",
    "Linked List – Elements (nodes) are linked using pointers.\n",
    "Stack – Last In First Out (LIFO) structure.\n",
    "Queue – First In First Out (FIFO) structure.\n",
    "\n",
    "2. Non-Linear Data Structures\n",
    "These store data in a hierarchical or interconnected manner.\n",
    "Tree – Hierarchical structure with nodes (e.g., binary trees).\n",
    "Graph – Set of nodes connected by edges.\n",
    "Heap – Specialized tree used in priority queues.\n",
    "Hash Table – Key-value pairs for efficient lookups.\n",
    "\n",
    "**Why Data Structures Are Important\n",
    "Efficiency:\n",
    "Choosing the right data structure can dramatically improve performance for tasks such as searching, sorting, and managing data.\n",
    "\n",
    "Organization:\n",
    "They help organize and store data logically, making complex tasks manageable and code easier to understand and maintain.\n",
    "\n",
    "Optimization:\n",
    "Different problems require different solutions; data structures help tailor algorithms for best-case performance.\n",
    "\n",
    "Real-World Modeling:\n",
    "They allow us to represent real-world entities such as networks (with graphs), tasks (with queues or stacks), or hierarchical relationships (with trees).\n",
    "\n",
    "Algorithm Support:\n",
    "Many algorithms are built around specific data structures. Understanding one often requires understanding the other.\n",
    "\n",
    "**Example\n",
    "If you want to implement an undo feature in a text editor, a stack would be the ideal data structure because it operates in a Last-In-First-Out manner — the last change made is the first to be undone.\n",
    "\n",
    "If you’re learning programming or computer science, mastering data structures is essential for writing efficient and effective code."
   ]
  },
  {
   "cell_type": "raw",
   "id": "6ca682d1-b1f8-42f2-aeca-8be3ecf87c2d",
   "metadata": {},
   "source": [
    "2)Explain the difference between mutable and immutable data types with examples.\n",
    "Answer:- \n",
    "**Mutable Data Types\n",
    "Definition: These can be changed after creation.\n",
    "Examples: list, dict, set, bytearray\n",
    "\n",
    "**Immutable Data Types\n",
    "Definition: These cannot be changed after creation. Any operation that modifies it creates a new object.\n",
    "Examples: int, float, str, tuple, frozenset, bytes\n",
    "\n",
    "***Performance: Immutable objects are faster to access and safer for multi-threaded environments.\n",
    "\n",
    "Safety: You can pass immutable objects around without worrying they’ll be changed.\n",
    "\n",
    "Use case: Choose mutable when you need to change the data; immutable when you want stability and consistency."
   ]
  },
  {
   "cell_type": "raw",
   "id": "8e826b55-f198-4e2c-90a5-f9063ea54307",
   "metadata": {},
   "source": [
    "3)What are the main differences between lists and tuples in Python?\n",
    "Answer:-\n",
    "**List: Mutable — You can change, add, or remove elements.\n",
    "**Tuple: Immutable — Once created, elements cannot be modified.\n",
    "\n",
    "**Syntax\n",
    "List: Uses square brackets []\n",
    "Tuple: Uses parentheses ()\n",
    "\n",
    "**Performance\n",
    "Tuples are generally faster than lists because they are fixed and smaller in memory.\n",
    "Ideal for read-only or constant data.\n",
    "\n",
    "**Use as Dictionary Keys\n",
    "Tuples can be used as keys in a dictionary (if all elements are immutable).\n",
    "Lists cannot be used as dictionary keys because they are mutable.\n",
    "\n",
    "**Methods Available\n",
    "Lists have more methods (append(), extend(), remove(), etc.).\n",
    "Tuples have only two methods: count() and index()."
   ]
  },
  {
   "cell_type": "raw",
   "id": "91f160e4-652f-44e1-a212-ad9881c1654e",
   "metadata": {},
   "source": [
    " 4)Describe how dictionaries store data?\n",
    "Answer:-A dictionary in Python is a collection of key-value pairs, where each key is unique, and is used to retrieve the associated value.\n",
    "**Internal Mechanism \n",
    "Python dictionaries use a hash table under the hood:-\n",
    "Key is hashed using Python’s built-in hash() function.\n",
    "The hash is used to compute an index in an internal array.\n",
    "The key-value pair is stored at that index.\n",
    "If two keys hash to the same index (a collision), Python uses a method like open addressing or probing to find the next available slot.\n",
    "\n",
    "***Example\n",
    "person = {\n",
    "    \"name\": \"Alice\",\n",
    "    \"age\": 30,\n",
    "    \"city\": \"London\"\n",
    "}\n",
    "This stores:\n",
    "\n",
    "\"name\" → \"Alice\"\n",
    "\n",
    "\"age\" → 30\n",
    "\n",
    "\"city\" → \"London\"\n",
    "\n",
    "You can retrieve values quickly:\n",
    "\n",
    "print(person[\"age\"])  # Output: 30\n"
   ]
  },
  {
   "cell_type": "raw",
   "id": "7e2a4486-bdda-4e8a-b84d-73c27db7b422",
   "metadata": {},
   "source": [
    "5) Why might you use a set instead of a list in Python?\n",
    "Answer:-\n",
    "1. Uniqueness of Elements\n",
    "Sets automatically remove duplicates.\n",
    "Lists allow duplicates, so you'd need extra work to eliminate them.\n",
    "\n",
    "2. Faster Membership Testing\n",
    "Sets are optimized for fast lookups — average O(1) time.\n",
    "Lists have O(n) lookup time (slower for large datasets).\n",
    "\n",
    "3. Set Operations\n",
    "Sets support powerful mathematical operations: union, intersection, difference.\n",
    "\n",
    "4. Intentional Use of Unordered Data\n",
    "If you don’t care about order and just need a collection of unique items, a set is semantically clearer than a list."
   ]
  },
  {
   "cell_type": "raw",
   "id": "ea99a0ce-e7e9-4fba-9e5b-99f38c5eae11",
   "metadata": {},
   "source": [
    "6)What is a string in Python, and how is it different from a list?\n",
    "Answer:-\n",
    "A string in Python is a sequence of characters, used to represent text. It's enclosed in single (') or double (\") quotes.\n",
    "\n",
    "*** Key Differences Between Strings and Lists\n",
    ">>Feature\t              String\t                                                     List\n",
    "Type of elements\t Only characters (text)\t                              Any data type (numbers, strings, etc.)\n",
    "Mutability           Immutable (cannot be changed)\t                          Mutable (can be changed)\n",
    "Syntax\t              \"Hello\" or 'Hi'\t                                          [1, 2, 3], [\"a\", \"b\", \"c\"]\n",
    "Indexing\t        Supports indexing and slicing\t                         Supports indexing and slicing\n",
    "Methods\tS       tring-specific methods (upper(), split(), replace())\t   List-specific methods (append(), pop(), sort())"
   ]
  },
  {
   "cell_type": "raw",
   "id": "4c20b2a5-03e1-4f00-ac90-506faa02e4f1",
   "metadata": {},
   "source": [
    "7) How do tuples ensure data integrity in Python?\n",
    "Answer-\n",
    "1. Immutability\n",
    "Tuples are immutable: you can't change, add, or remove elements.\n",
    "This means once data is stored in a tuple, it remains fixed and safe.\n",
    "\n",
    "2. Hashability (Safe for Keys in Dictionaries/Sets)\n",
    "Tuples can be used as keys in dictionaries or elements in sets if they contain only hashable items.\n",
    "This allows secure association of data (e.g., key-value pairs in a config system).\n",
    "\n",
    "3. Predictable and Consistent Behavior\n",
    "Since tuples can’t change, they provide a consistent structure across the code.\n",
    "Useful for returning multiple values from functions where the data should remain untouched."
   ]
  },
  {
   "cell_type": "raw",
   "id": "1c333094-efdd-4c99-a85a-c1d5e0bf618b",
   "metadata": {},
   "source": [
    "8)What is a hash table, and how does it relate to dictionaries in Python?\n",
    "Answer:-\n",
    "*Hash Function:\n",
    "A key (like \"apple\") is passed through a hash function (e.g., hash(\"apple\")). The function produces a hash value, which is usually a large integer.\n",
    "*Index Calculation:\n",
    "This hash value is then used to determine an index in an underlying array or list. \n",
    "*Storing the Data:\n",
    "The key-value pair is then stored at the calculated index in the array.\n",
    "*Retrieving the Data:\n",
    "To retrieve a value, the same hash function is applied to the key, and the index is calculated again. The data is then accessed directly at that index.\n",
    "\n",
    "**In Python, dictionaries are implemented using hash tables. This means:\n",
    "When you store a value in a dictionary with a key, Python uses the hash value of the key to decide where to store that value in memory.\n",
    "When you access a value using a key, Python calculates the hash and uses it to quickly find the value."
   ]
  },
  {
   "cell_type": "raw",
   "id": "fc8ed127-78ef-48e6-a959-a5fb218821c4",
   "metadata": {},
   "source": [
    "9) Can lists contain different data types in Python?\n",
    "Answer:-\n",
    "In this list:\n",
    "\n",
    "21 is an integer\n",
    "\n",
    "\"hello\" is a string\n",
    "\n",
    "2.17 is a float\n",
    "\n",
    "True is a boolean\n",
    "\n",
    "None is the NoneType\n",
    "\n",
    "[2, 5] is another list\n",
    "\n",
    "{\"key\": \"value\"} is a dictionary\n",
    "\n",
    "Python lists are heterogeneous, meaning they can store elements of various data types, including other lists, tuples, sets, and even custom objects."
   ]
  },
  {
   "cell_type": "raw",
   "id": "25111e6f-0519-4cca-89a7-1833eac205f2",
   "metadata": {},
   "source": [
    "10) Explain why strings are immutable in Python?\n",
    "Answer:-\n",
    "1. Efficiency and Memory Optimization\n",
    "Python interns some strings (especially short or frequently used ones) to save memory.\n",
    "Immutability makes this safe because if one variable changes a string, it won’t unintentionally affect another that shares the same string in memory.\n",
    "\n",
    "2. Thread Safety\n",
    "Since strings can’t be changed, they are inherently safe to use in multi-threaded environments without risk of one thread modifying a string while another is using it.\n",
    "\n",
    "3. Hashability\n",
    "Immutable objects can be hashed, which allows them to be used as keys in dictionaries or stored in sets.\n",
    "Strings are hashable.\n",
    "If strings were mutable, their hash values could change, breaking dictionary integrity.\n",
    "\n",
    "4. Design Philosophy (Simplicity and Reliability)\n",
    "Immutability leads to predictable behavior and fewer bugs.\n",
    "When you \"modify\" a string (e.g., with replace()), you get a new string, and the original stays unchanged."
   ]
  },
  {
   "cell_type": "raw",
   "id": "c5ddafc7-8aca-4c74-a938-f02fb9a7167d",
   "metadata": {},
   "source": [
    "11)What advantages do dictionaries offer over lists for certain tasks?\n",
    "Answer:-\n",
    "1. Faster Lookup Times\n",
    "Dictionaries: Average-case time complexity for lookups is O(1).\n",
    "Lists: Searching for an item by value is O(n).\n",
    "\n",
    "2. Key-Based Access\n",
    "Dictionaries allow access to values via unique keys, making the code clearer and more expressive.\n",
    "\n",
    "3. Better Data Organization\n",
    "Dictionaries model real-world associations more naturally, such as mapping countries to capitals, usernames to profiles, etc.\n",
    "\n",
    "4. Flexibility with Key Types\n",
    "Keys in dictionaries can be any immutable type (strings, numbers, tuples), allowing for complex indexing patterns not possible with lists.\n",
    "\n",
    "5. Efficient Updates\n",
    "Updating or inserting a key-value pair in a dictionary is fast and does not require shifting elements like a list might."
   ]
  },
  {
   "cell_type": "raw",
   "id": "54b14c76-a3c7-470b-a412-e60e276054b1",
   "metadata": {},
   "source": [
    "12)Describe a scenario where using a tuple would be preferable over a list?\n",
    "Answer:-\n",
    "A tuple is preferable over a list when you need an immutable, fixed-size collection of items—especially when the structure of the data is not meant to change. Here's a practical scenario:\n",
    "\n",
    "***def process_input(user_input):\n",
    "    if user_input.isdigit():\n",
    "        return int(user_input), \"Success\"\n",
    "    else:\n",
    "        return None, \"Invalid input\"\n",
    "\n",
    "Why Use a Tuple in This Case:-\n",
    "Immutable structure: The result and status shouldn't be changed after being returned. Tuples ensure that.\n",
    "Fixed format: The number and meaning of elements are known and consistent—perfect for tuples.\n",
    "Performance: Tuples are slightly more memory-efficient and faster to access than lists.\n",
    "Semantic clarity: Tuples often signal a record-like structure (like a lightweight strict), which is conceptually different from a list's \"collection of items\" feel."
   ]
  },
  {
   "cell_type": "raw",
   "id": "9bf774a8-495d-4f7a-af7e-2612eff08514",
   "metadata": {},
   "source": [
    "13) How do sets handle duplicate values in Python?\n",
    "Answer:-In Python, sets automatically eliminate duplicate values. When you create a set, it stores only unique elements.\n",
    "Why?\n",
    "Sets are implemented using hash tables, which means:\n",
    "Each element must be hashable (like numbers, strings, tuples).\n",
    "Sets use the hash value to determine equality.\n",
    "Duplicate elements (those with the same hash and equality comparison) are discarded."
   ]
  },
  {
   "cell_type": "raw",
   "id": "ed2b269c-b7fa-49f7-adaf-eb1d142a58fa",
   "metadata": {},
   "source": [
    "14) How does the “in” keyword work differently for lists and dictionaries?\n",
    "Answer:-\n",
    "For lists:\n",
    "in checks whether a value is present in the list.\n",
    "It does a linear search (O(n) time complexity).\n",
    "\n",
    "For dictionaries:\n",
    "in checks whether a key is present, not a value.\n",
    "It uses a hash table lookup (O(1) average time complexity)."
   ]
  },
  {
   "cell_type": "raw",
   "id": "3bbcea8c-d15e-4fdc-a320-88b85869a815",
   "metadata": {},
   "source": [
    "15)Can you modify the elements of a tuple? Explain why or why not.\n",
    "Answer:-\n",
    "No, you cannot modify the elements of a tuple in Python. Tuples are immutable, meaning once they are created, their contents cannot be changed.\n",
    "**Why tuples are immutable:\n",
    "Design choice: Immutability allows tuples to be used as dictionary keys and elements of sets (which require hashable types).\n",
    "Hashability: Only immutable objects can have a consistent hash value, which is essential for correct behavior in hash-based collections."
   ]
  },
  {
   "cell_type": "raw",
   "id": "ef7b3889-7185-4a4d-afb1-c5db6648c946",
   "metadata": {},
   "source": [
    "16)What is a nested dictionary, and give an example of its use case?\n",
    "Answer:-\n",
    "A nested dictionary in Python is a dictionary where values themselves are dictionaries. This structure allows you to represent more complex data relationships, such as hierarchical or grouped data.\n",
    "***Use Case Example:\n",
    "students = {\n",
    "    '1001': {\n",
    "        'name': 'Emma',\n",
    "        'grades': {'Math': 90, 'English': 85}\n",
    "    },\n",
    "    '1002': {\n",
    "        'name': 'Liam',\n",
    "        'grades': {'Math': 78, 'English': 88}\n",
    "    }\n",
    "}\n",
    "\n",
    "# Accessing Liam's English grade:\n",
    "print(students['1002']['grades']['English'])  # Output: 88"
   ]
  },
  {
   "cell_type": "raw",
   "id": "a0d2de33-ef88-4677-9615-cc2ea5ac4ef1",
   "metadata": {},
   "source": [
    "17) Describe the time complexity of accessing elements in a dictionary?\n",
    "Answer:-\n",
    "The time complexity of accessing elements in a dictionary in Python is:\n",
    ">>Average Case:\n",
    "O(1) — Constant time\n",
    "This is because Python dictionaries are implemented as hash tables, which allow direct access to values via their keys using a hash function.\n",
    ">>Worst Case:\n",
    "O(n) — Linear time\n",
    "**This happens rarely, and typically only in pathological cases, such as:\n",
    "Hash collisions: Many keys hash to the same value, degrading performance.\n",
    "Poorly designed hash functions or deliberate attacks (like DoS via crafted keys).\n",
    "However, Python includes countermeasures (like randomized hash functions) to mitigate these issues.\n",
    "**Summary:\n",
    "Operation\tAverage Case\tWorst Case\n",
    "dict[key] access\tO(1)\tO(n)\n",
    "dict[key] = value insertion/update\tO(1)\tO(n)\n",
    "del dict[key] deletion\tO(1)\tO(n)\n",
    "In practice, you can almost always treat dictionary access as O(1) due to Python's efficient hash table implementation."
   ]
  },
  {
   "cell_type": "raw",
   "id": "4444bc14-69c0-4e78-94bc-c34fffc8b572",
   "metadata": {},
   "source": [
    "18)In what situations are lists preferred over dictionaries?\n",
    "Answer:-\n",
    "Lists and dictionaries are both powerful data structures in Python, but they serve different purposes. Lists are preferred over dictionaries in the following situations:\n",
    "1. Order Matters\n",
    "When the order of elements is important, such as maintaining a sequence or iterating in a specific order.\n",
    "2. Elements Don’t Need a Unique Key\n",
    "If you don’t need to associate each item with a key and just want to store a collection of values.\n",
    "3. You Need to Maintain Duplicates\n",
    "Lists allow duplicate values; dictionaries do not allow duplicate keys.\n",
    "4. Fast Iteration over Values\n",
    "Lists are generally more memory-efficient and slightly faster for iterating over values when you don't need key-value pairs.\n",
    "5. Index-Based Access\n",
    "If you want to access elements by position/index rather than a key.\n",
    "6. Simplicity\n",
    "Lists are simpler to use for small or temporary collections where key-based lookup isn't needed."
   ]
  },
  {
   "cell_type": "raw",
   "id": "8b08f1cf-25c5-43c1-b65c-4b3f46f9963b",
   "metadata": {},
   "source": [
    "19)Why are dictionaries considered unordered, and how does that affect data retrieval?\n",
    "Answer:-\n",
    "Historically, Python dictionaries were unordered collections — meaning they did not maintain the insertion order of key-value pairs. This was true prior to Python 3.7.\n",
    "In versions before Python 3.7, the order in which you inserted items was not guaranteed to be preserved when you iterated over the dictionary.\n",
    "Starting with Python 3.7+, dictionaries preserve insertion order as an implementation detail (and it's officially part of the language spec as of Python 3.8).\n",
    "However, despite preserving order now, dictionaries are still conceptually unordered because they are fundamentally designed for fast key-based lookup, not order maintenance.\n",
    "***How This Affects Data Retrieval\n",
    "Key-Based Access:\n",
    "Retrieval is done using keys, not positions (like lists).\n",
    "This is very fast (average O(1) time complexity) because of the underlying hash table structure.\n",
    "**No Index-Based Access:\n",
    "You cannot do something like person[0] to get the first item.\n",
    "You must access elements by key, not by order or position.\n",
    "**No Positional Semantics:\n",
    "Even though insertion order is preserved (in newer versions), that order is not used for indexing or positional operations like in lists.\n",
    "Iteration Is Ordered (Python 3.7+)\n",
    "You can now rely on the fact that iterating over dict.items() or dict.keys() will follow the insertion order, but it's still best not to rely on this for logic unless order truly matters and is documented."
   ]
  },
  {
   "cell_type": "raw",
   "id": "d1d82bae-2c35-4211-b22e-63e9f21a59b1",
   "metadata": {},
   "source": [
    "20) Explain the difference between a list and a dictionary in terms of data retrieval.\n",
    "Answer:-\n",
    "**How You Retrieve Data\n",
    "Feature\t                       List\t                           Dictionary\n",
    "Access method\t           By index (position)\t                By key\n",
    "Syntax\t                     my_list[2]\t                      my_dict[\"name\"]\n",
    "Use case\tUse when order/position matters\t            Use when label/identifier matters\n",
    "** Performance (Speed)\n",
    "Operation\t                    List\t                          Dictionary\n",
    "Data retrieval\t        Slower(O(n) for value search)\t       Faster (O(1) average for key lookup)\n",
    "Access by index              \tO(1)\t                        Not applicable\n",
    "Search by value\t                O(n)\t                        O(1) with a known key\n",
    "**List:\n",
    "\n",
    "fruits = [\"apple\", \"banana\", \"cherry\"]\n",
    "print(fruits[1])  # Output: \"banana\"\n",
    "\n",
    "You must know the index to get the item.\n",
    "Searching for \"cherry\" requires looping through the list.\n",
    "\n",
    "**Dictionary:\n",
    "person = {\"name\": \"Alice\", \"age\": 30}\n",
    "print(person[\"age\"])  # Output: 30\n",
    "\n",
    "You must know the key to get the value.\n",
    "Much faster than searching through a list."
   ]
  },
  {
   "cell_type": "code",
   "execution_count": null,
   "id": "9503caa6-2895-4809-9c25-10be02269967",
   "metadata": {},
   "outputs": [],
   "source": [
    "                                                           Practical Questions"
   ]
  },
  {
   "cell_type": "code",
   "execution_count": 3,
   "id": "b5976510-024e-4cf3-81bb-86fab38a3e28",
   "metadata": {},
   "outputs": [
    {
     "name": "stdin",
     "output_type": "stream",
     "text": [
      "Enter Your name:   saurabh\n"
     ]
    },
    {
     "name": "stdout",
     "output_type": "stream",
     "text": [
      "saurabh\n",
      "saurabh\n"
     ]
    }
   ],
   "source": [
    "#1)Write a code to create a string with your name and print it\n",
    "#code>>\n",
    "name = input(\"Enter Your name:  \")\n",
    "print(name)\n",
    "\n",
    "NAME = 'saurabh'\n",
    "print(NAME)"
   ]
  },
  {
   "cell_type": "code",
   "execution_count": 4,
   "id": "66d76d8f-9b67-4403-bedb-c71750d33b83",
   "metadata": {},
   "outputs": [
    {
     "data": {
      "text/plain": [
       "11"
      ]
     },
     "execution_count": 4,
     "metadata": {},
     "output_type": "execute_result"
    }
   ],
   "source": [
    "#2)Write a code to find the length of the string \"Hello World\"\n",
    "#code>>\n",
    "s= \"Hello world\"\n",
    "len(s)"
   ]
  },
  {
   "cell_type": "code",
   "execution_count": 6,
   "id": "5e527ec2-76b7-43f6-bac0-ff0c33bca4c6",
   "metadata": {},
   "outputs": [
    {
     "data": {
      "text/plain": [
       "'pyt'"
      ]
     },
     "execution_count": 6,
     "metadata": {},
     "output_type": "execute_result"
    }
   ],
   "source": [
    "#3)Write a code to slice the first 3 characters from the string \"Python Programming\".\n",
    "#code>>\n",
    "s= \"python programming\"\n",
    "s[0:3]"
   ]
  },
  {
   "cell_type": "code",
   "execution_count": 8,
   "id": "6108d27d-9623-43a1-aefc-d07dff61e247",
   "metadata": {},
   "outputs": [
    {
     "data": {
      "text/plain": [
       "'HELLO'"
      ]
     },
     "execution_count": 8,
     "metadata": {},
     "output_type": "execute_result"
    }
   ],
   "source": [
    "#4)Write a code to convert the string \"hello\" to uppercase.\n",
    "#code>>\n",
    "a= \"hello\"\n",
    "a.upper()"
   ]
  },
  {
   "cell_type": "code",
   "execution_count": 12,
   "id": "3f97b69d-5650-49f0-9b54-e8e91646577b",
   "metadata": {},
   "outputs": [
    {
     "data": {
      "text/plain": [
       "'i like orange'"
      ]
     },
     "execution_count": 12,
     "metadata": {},
     "output_type": "execute_result"
    }
   ],
   "source": [
    "#5)Write a code to replace the word \"apple\" with \"orange\" in the string \"I like apple\".\n",
    "#code>>\n",
    "b='i like apple'\n",
    "b.replace('apple', 'orange')"
   ]
  },
  {
   "cell_type": "code",
   "execution_count": 26,
   "id": "ace99bac-624a-46b7-8ab8-c449e080df7a",
   "metadata": {},
   "outputs": [
    {
     "name": "stdout",
     "output_type": "stream",
     "text": [
      "[1, 2, 3, 4, 5]\n",
      "[1, 2, 3, 4, 5]\n"
     ]
    }
   ],
   "source": [
    "#6)Write a code to create a list with numbers 1 to 5 and print it.\n",
    "#code>>\n",
    "L=[1,2,3,4,5]\n",
    "print(L)\n",
    "\n",
    "l = list(range(1,6))\n",
    "print(l)"
   ]
  },
  {
   "cell_type": "code",
   "execution_count": 30,
   "id": "ff57d25e-e1e3-4743-8493-174f38c82b96",
   "metadata": {},
   "outputs": [
    {
     "name": "stdout",
     "output_type": "stream",
     "text": [
      "[1, 2, 3, 4, 10]\n"
     ]
    }
   ],
   "source": [
    "#7)Write a code to append the number 10 to the list [1, 2, 3, 4].\n",
    "#code>>\n",
    "L = [1,2,3,4]\n",
    "L.append(10)\n",
    "print(L)"
   ]
  },
  {
   "cell_type": "code",
   "execution_count": 3,
   "id": "740e051b-47cb-458d-a789-7b8c79c730f6",
   "metadata": {},
   "outputs": [
    {
     "name": "stdout",
     "output_type": "stream",
     "text": [
      "[1, 2, 4, 5]\n"
     ]
    }
   ],
   "source": [
    "#8)Write a code to remove the number 3 from the list [1, 2, 3, 4, 5].\n",
    "#code>>\n",
    "a = [1,2,3,4,5]\n",
    "a.remove(3)\n",
    "print(a)"
   ]
  },
  {
   "cell_type": "code",
   "execution_count": 6,
   "id": "0089c696-cdb5-42ae-a424-931f5cad8b37",
   "metadata": {},
   "outputs": [
    {
     "name": "stdout",
     "output_type": "stream",
     "text": [
      "b\n"
     ]
    }
   ],
   "source": [
    "#9)Write a code to access the second element in the list ['a', 'b', 'c', 'd'].\n",
    "#code>>\n",
    "c=['a','b','c','d']\n",
    "print(c[1])"
   ]
  },
  {
   "cell_type": "code",
   "execution_count": 15,
   "id": "99834b0a-1270-48e0-a22a-dafe552b4271",
   "metadata": {},
   "outputs": [
    {
     "data": {
      "text/plain": [
       "[50, 40, 30, 20, 10]"
      ]
     },
     "execution_count": 15,
     "metadata": {},
     "output_type": "execute_result"
    }
   ],
   "source": [
    "#10)Write a code to reverse the list [10, 20, 30, 40, 50].\n",
    "#code>>\n",
    "D=[10,20,30,40,50]\n",
    "D[::-1]"
   ]
  },
  {
   "cell_type": "code",
   "execution_count": 16,
   "id": "cbe93d0b-19dc-4e3d-85aa-bfc3c717ec5e",
   "metadata": {},
   "outputs": [
    {
     "name": "stdout",
     "output_type": "stream",
     "text": [
      "(100, 200, 300)\n"
     ]
    }
   ],
   "source": [
    "#11)Write a code to create a tuple with the elements 100, 200, 300 and print it\n",
    "#code>>\n",
    "my_tuple = (100, 200, 300)\n",
    "print(my_tuple)"
   ]
  },
  {
   "cell_type": "code",
   "execution_count": 20,
   "id": "e7ee4559-d775-47d5-a4d2-54f1222d45d0",
   "metadata": {},
   "outputs": [
    {
     "name": "stdout",
     "output_type": "stream",
     "text": [
      "blue\n"
     ]
    }
   ],
   "source": [
    "#12)Write a code to access the second-to-last element of the tuple ('red', 'green', 'blue', 'yellow').\n",
    "#code>>\n",
    "tuple = ('red', 'green', 'blue', 'yellow')\n",
    "print(tuple[-2])\n"
   ]
  },
  {
   "cell_type": "code",
   "execution_count": 23,
   "id": "5e2fc2be-0e77-4e5e-927e-0b310222105c",
   "metadata": {},
   "outputs": [
    {
     "data": {
      "text/plain": [
       "5"
      ]
     },
     "execution_count": 23,
     "metadata": {},
     "output_type": "execute_result"
    }
   ],
   "source": [
    "#13)Write a code to find the minimum number in the tuple (10, 20, 5, 15).\n",
    "#code>>\n",
    "a = (10,20,5,15)\n",
    "min(a)"
   ]
  },
  {
   "cell_type": "code",
   "execution_count": 24,
   "id": "bd6004e6-d862-400b-82d3-1e7e36dd80c9",
   "metadata": {},
   "outputs": [
    {
     "data": {
      "text/plain": [
       "1"
      ]
     },
     "execution_count": 24,
     "metadata": {},
     "output_type": "execute_result"
    }
   ],
   "source": [
    "#14)Write a code to find the index of the element \"cat\" in the tuple ('dog', 'cat', 'rabbit').\n",
    "#code>>\n",
    "I = ('dog', 'cat', 'rabbit')\n",
    "I.index('cat')"
   ]
  },
  {
   "cell_type": "code",
   "execution_count": 28,
   "id": "90458a54-0bd2-40ad-acc7-029c090932e8",
   "metadata": {},
   "outputs": [
    {
     "name": "stdout",
     "output_type": "stream",
     "text": [
      "kiwi is in the t\n"
     ]
    }
   ],
   "source": [
    "#15)Write a code to create a tuple containing three different fruits and check if \"kiwi\" is in it.\n",
    "#code>>\n",
    "t = ('mango', 'kiwi', 'banana')\n",
    "\n",
    "if 'kiwi' in t:\n",
    "    print('kiwi is in the t')\n",
    "else:\n",
    "    print(\"kiwi is not in the t\")"
   ]
  },
  {
   "cell_type": "code",
   "execution_count": 35,
   "id": "f71ada28-dda9-47bf-8062-bba05194a8d4",
   "metadata": {},
   "outputs": [
    {
     "name": "stdout",
     "output_type": "stream",
     "text": [
      "{'a', 'c', 'b'}\n"
     ]
    }
   ],
   "source": [
    "#16)Write a code to create a set with the elements 'a', 'b', 'c' and print it.\n",
    "#code>>\n",
    "a = {'a', 'b', 'c'}\n",
    "print(a)"
   ]
  },
  {
   "cell_type": "code",
   "execution_count": 37,
   "id": "6123414a-4522-4701-9158-7686063b0d5a",
   "metadata": {},
   "outputs": [
    {
     "name": "stdout",
     "output_type": "stream",
     "text": [
      "set()\n"
     ]
    }
   ],
   "source": [
    "#17)Write a code to clear all elements from the set {1, 2, 3, 4, 5}.\n",
    "#code>>\n",
    "a = {1, 2, 3, 4, 5}\n",
    "a.clear()\n",
    "print(a)"
   ]
  },
  {
   "cell_type": "code",
   "execution_count": 39,
   "id": "72efc693-99f5-4f18-b472-207fcb4af44a",
   "metadata": {},
   "outputs": [
    {
     "name": "stdout",
     "output_type": "stream",
     "text": [
      "{1, 2, 3}\n"
     ]
    }
   ],
   "source": [
    "#18) Write a code to remove the element 4 from the set {1, 2, 3, 4}.\n",
    "#code>>\n",
    "a = {1, 2, 3, 4}\n",
    "a.remove(4)\n",
    "print(a)"
   ]
  },
  {
   "cell_type": "code",
   "execution_count": 42,
   "id": "9abe0991-57d3-497c-beaf-e2714a74b8ac",
   "metadata": {},
   "outputs": [
    {
     "name": "stdout",
     "output_type": "stream",
     "text": [
      "{1, 2, 3, 4, 5}\n"
     ]
    }
   ],
   "source": [
    "#19)Write a code to find the union of two sets {1, 2, 3} and {3, 4, 5}.\n",
    "#code>>\n",
    "s1 = {1, 2, 3}\n",
    "s2 = {3, 4, 5}\n",
    "s3 = s1.union(s2)\n",
    "print(s3)"
   ]
  },
  {
   "cell_type": "code",
   "execution_count": 44,
   "id": "0e729e97-8df4-4b4c-a48f-0aba4a3a77c3",
   "metadata": {},
   "outputs": [
    {
     "name": "stdout",
     "output_type": "stream",
     "text": [
      "{2, 3}\n"
     ]
    }
   ],
   "source": [
    "#20) Write a code to find the intersection of two sets {1, 2, 3} and {2, 3, 4}.\n",
    "#code>>\n",
    "s1 = {1, 2, 3}\n",
    "s2 = {2, 3, 4}\n",
    "s3 = s1.intersection(s2)\n",
    "print(s3)"
   ]
  },
  {
   "cell_type": "code",
   "execution_count": 45,
   "id": "a1fd7c15-73f7-418a-b9f4-1c425a3408eb",
   "metadata": {},
   "outputs": [
    {
     "name": "stdout",
     "output_type": "stream",
     "text": [
      "{'name': 'saurabh', 'age': 26, 'city': 'Pune'}\n"
     ]
    }
   ],
   "source": [
    "#21)Write a code to create a dictionary with the keys \"name\", \"age\", and \"city\", and print it.\n",
    "#code>>\n",
    "person = {\n",
    "    \"name\": \"saurabh\",\n",
    "    \"age\": 26,\n",
    "    \"city\": \"Pune\"\n",
    "}\n",
    "print(person)"
   ]
  },
  {
   "cell_type": "code",
   "execution_count": 46,
   "id": "fbcdbeee-786e-4292-9a6d-a6925ce6624f",
   "metadata": {},
   "outputs": [
    {
     "name": "stdout",
     "output_type": "stream",
     "text": [
      "{'name': 'John', 'age': 25, 'country': 'USA'}\n"
     ]
    }
   ],
   "source": [
    "#22)Write a code to add a new key-value pair \"country\": \"USA\" to the dictionary {'name': 'John', 'age': 25}.\n",
    "#code>>\n",
    "D = {'name': 'John', 'age': 25}\n",
    "D['country']='USA'\n",
    "print(D)"
   ]
  },
  {
   "cell_type": "code",
   "execution_count": 47,
   "id": "dd3bc304-d00a-49b1-812f-f5c8978abe9b",
   "metadata": {},
   "outputs": [
    {
     "name": "stdout",
     "output_type": "stream",
     "text": [
      "Alice\n"
     ]
    }
   ],
   "source": [
    "#23)write a code with the key \"name\" in the dictionary {'name': 'Alice', 'age': 30}.\n",
    "#code>>\n",
    "N = {'name': 'Alice', 'age': 30}\n",
    "n = N['name']\n",
    "print(n)"
   ]
  },
  {
   "cell_type": "code",
   "execution_count": 49,
   "id": "81474df4-7045-4f7e-a6ec-121d28b0b645",
   "metadata": {},
   "outputs": [
    {
     "name": "stdout",
     "output_type": "stream",
     "text": [
      "{'name': 'Bob', 'city': 'New York'}\n"
     ]
    }
   ],
   "source": [
    "#24)Write a code to remove the key \"age\" from the dictionary {'name': 'Bob', 'age': 22, 'city': 'New York'}.\n",
    "#code>>\n",
    "p = {'name': 'Bob', 'age': 22, 'city': 'New York'}\n",
    "del p['age']\n",
    "print(p)"
   ]
  },
  {
   "cell_type": "code",
   "execution_count": 51,
   "id": "feaf8850-ca90-4fa9-b70c-f1b6b9468591",
   "metadata": {},
   "outputs": [
    {
     "name": "stdout",
     "output_type": "stream",
     "text": [
      "city is present\n"
     ]
    }
   ],
   "source": [
    "#25)Write a code to check if the key \"city\" exists in the dictionary {'name': 'Alice', 'city': 'Paris'}.\n",
    "#code>>\n",
    "T = {'name': 'Alice', 'city': 'Paris'}\n",
    "if 'city' in T:\n",
    "    print('city is present')\n",
    "else:\n",
    "    print(\"not present\")"
   ]
  },
  {
   "cell_type": "code",
   "execution_count": 52,
   "id": "12494442-baf4-46ee-b361-6331589b028b",
   "metadata": {},
   "outputs": [
    {
     "name": "stdout",
     "output_type": "stream",
     "text": [
      "List: [1, 2, 3, 4, 5]\n",
      "Tuple: ('apple', 'banana', 'cherry')\n",
      "Dictionary: {'name': 'Alice', 'age': 30, 'city': 'New York'}\n"
     ]
    }
   ],
   "source": [
    "#26) Write a code to create a list, a tuple, and a dictionary, and print them all.\n",
    "#code>>\n",
    "my_list = [1, 2, 3, 4, 5]\n",
    "\n",
    "my_tuple = ('apple', 'banana', 'cherry')\n",
    "\n",
    "my_dict = {'name': 'Alice', 'age': 30, 'city': 'New York'}\n",
    "\n",
    "print(\"List:\", my_list)\n",
    "print(\"Tuple:\", my_tuple)\n",
    "print(\"Dictionary:\", my_dict)"
   ]
  },
  {
   "cell_type": "code",
   "execution_count": 53,
   "id": "dcadd2a2-921b-4502-a690-69c30d563ce9",
   "metadata": {},
   "outputs": [
    {
     "name": "stdout",
     "output_type": "stream",
     "text": [
      "[6, 33, 58, 88, 98]\n"
     ]
    }
   ],
   "source": [
    "#27) Write a code to create a list of 5 random numbers between 1 and 100, sort it in ascending order, and print the result.(replaced)\n",
    "#code>>\n",
    "import random\n",
    "random_numbers = [random.randint(1, 100) for _ in range(5)]\n",
    "random_numbers.sort()\n",
    "print(random_numbers)"
   ]
  },
  {
   "cell_type": "code",
   "execution_count": null,
   "id": "1e8e57bc-3043-48b0-8b09-0f7f5b0ab8ee",
   "metadata": {},
   "outputs": [],
   "source": [
    "#28)Write a code to create a list with strings and print the element at the third index.\n",
    "#code>>\n",
    "l = ['apple', 'banana', 'cherry', 'date', 'elderberry']\n",
    "print(l[3])"
   ]
  },
  {
   "cell_type": "code",
   "execution_count": 56,
   "id": "b86b4361-04ac-4363-b98a-f7dac9ddf589",
   "metadata": {},
   "outputs": [
    {
     "name": "stdout",
     "output_type": "stream",
     "text": [
      "{'name': 'saurabh', 'age': 26, 'city': 'Pune', 'job': 'data scientist'}\n"
     ]
    }
   ],
   "source": [
    "#29)Write a code to combine two dictionaries into one and print the result.\n",
    "#code>>\n",
    "d1 = {'name': 'saurabh', 'age': 26}\n",
    "d2 = {'city': 'Pune', 'job': 'data scientist'}\n",
    "d3 = {**d1, **d2}\n",
    "print(d3)"
   ]
  },
  {
   "cell_type": "code",
   "execution_count": 59,
   "id": "2a26eb33-031a-42aa-9641-3698d3562e9b",
   "metadata": {},
   "outputs": [
    {
     "name": "stdout",
     "output_type": "stream",
     "text": [
      "{'cherry', 'apple', 'banana'}\n"
     ]
    }
   ],
   "source": [
    "#30)Write a code to convert a list of strings into a set.\n",
    "#code>>\n",
    "l = ['apple', 'banana', 'cherry', 'apple']\n",
    "L=set(l)\n",
    "print(L)\n"
   ]
  }
 ],
 "metadata": {
  "kernelspec": {
   "display_name": "Python 3 (ipykernel)",
   "language": "python",
   "name": "python3"
  },
  "language_info": {
   "codemirror_mode": {
    "name": "ipython",
    "version": 3
   },
   "file_extension": ".py",
   "mimetype": "text/x-python",
   "name": "python",
   "nbconvert_exporter": "python",
   "pygments_lexer": "ipython3",
   "version": "3.12.1"
  }
 },
 "nbformat": 4,
 "nbformat_minor": 5
}
